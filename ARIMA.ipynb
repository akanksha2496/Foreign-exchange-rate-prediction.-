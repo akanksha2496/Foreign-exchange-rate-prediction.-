{
  "nbformat": 4,
  "nbformat_minor": 0,
  "metadata": {
    "colab": {
      "name": "ARIMA.ipynb",
      "provenance": [],
      "collapsed_sections": []
    },
    "kernelspec": {
      "name": "python3",
      "display_name": "Python 3"
    }
  },
  "cells": [
    {
      "cell_type": "markdown",
      "metadata": {
        "id": "PK9hhwgin3lr",
        "colab_type": "text"
      },
      "source": [
        "LOAD DATA:"
      ]
    },
    {
      "cell_type": "code",
      "metadata": {
        "id": "kOH4KBGo-caV",
        "colab_type": "code",
        "outputId": "ca21ded1-0d5e-4beb-cff6-c4be89a07e75",
        "colab": {
          "base_uri": "https://localhost:8080/",
          "height": 50
        }
      },
      "source": [
        "import numpy as np \n",
        "import os \n",
        "###https://www.geeksforgeeks.org/working-zip-files-python/\n",
        "##import zip code from here\n",
        "\n",
        "# importing required modules \n",
        "from zipfile import ZipFile \n",
        "\n",
        "# opening the zip file in READ mode\n",
        "with ZipFile('/content/foreign-exchange-rates-per-dollar-20002019.zip', 'r') as zip: \n",
        "    # printing all the contents of the zip file \n",
        "    # zip.printdir() \n",
        "  \n",
        "    # extracting all the files \n",
        "    print('Extracting all the files now...')\n",
        "    zip.extractall()\n",
        "    print('Done!')"
      ],
      "execution_count": 0,
      "outputs": [
        {
          "output_type": "stream",
          "text": [
            "Extracting all the files now...\n",
            "Done!\n"
          ],
          "name": "stdout"
        }
      ]
    },
    {
      "cell_type": "code",
      "metadata": {
        "id": "2bxb2y-NJauW",
        "colab_type": "code",
        "outputId": "af4e34d7-e662-4e9d-b07b-57a21eb1eb25",
        "colab": {
          "base_uri": "https://localhost:8080/",
          "height": 657
        }
      },
      "source": [
        "import pandas as pd\n",
        "xdf = pd.read_excel (r'/content/Foreign_Exchange_Rates.xlsx')\n",
        "xdf"
      ],
      "execution_count": 0,
      "outputs": [
        {
          "output_type": "execute_result",
          "data": {
            "text/html": [
              "<div>\n",
              "<style scoped>\n",
              "    .dataframe tbody tr th:only-of-type {\n",
              "        vertical-align: middle;\n",
              "    }\n",
              "\n",
              "    .dataframe tbody tr th {\n",
              "        vertical-align: top;\n",
              "    }\n",
              "\n",
              "    .dataframe thead th {\n",
              "        text-align: right;\n",
              "    }\n",
              "</style>\n",
              "<table border=\"1\" class=\"dataframe\">\n",
              "  <thead>\n",
              "    <tr style=\"text-align: right;\">\n",
              "      <th></th>\n",
              "      <th>Time Serie</th>\n",
              "      <th>AUSTRALIA - AUSTRALIAN DOLLAR/US$</th>\n",
              "      <th>EURO AREA - EURO/US$</th>\n",
              "      <th>NEW ZEALAND - NEW ZELAND DOLLAR/US$</th>\n",
              "      <th>UNITED KINGDOM - UNITED KINGDOM POUND/US$</th>\n",
              "      <th>BRAZIL - REAL/US$</th>\n",
              "      <th>CANADA - CANADIAN DOLLAR/US$</th>\n",
              "      <th>CHINA - YUAN/US$</th>\n",
              "      <th>HONG KONG - HONG KONG DOLLAR/US$</th>\n",
              "      <th>INDIA - INDIAN RUPEE/US$</th>\n",
              "      <th>KOREA - WON/US$</th>\n",
              "      <th>MEXICO - MEXICAN PESO/US$</th>\n",
              "      <th>SOUTH AFRICA - RAND/US$</th>\n",
              "      <th>SINGAPORE - SINGAPORE DOLLAR/US$</th>\n",
              "      <th>DENMARK - DANISH KRONE/US$</th>\n",
              "      <th>JAPAN - YEN/US$</th>\n",
              "      <th>MALAYSIA - RINGGIT/US$</th>\n",
              "      <th>NORWAY - NORWEGIAN KRONE/US$</th>\n",
              "      <th>SWEDEN - KRONA/US$</th>\n",
              "      <th>SRI LANKA - SRI LANKAN RUPEE/US$</th>\n",
              "      <th>SWITZERLAND - FRANC/US$</th>\n",
              "      <th>TAIWAN - NEW TAIWAN DOLLAR/US$</th>\n",
              "      <th>THAILAND - BAHT/US$</th>\n",
              "    </tr>\n",
              "  </thead>\n",
              "  <tbody>\n",
              "    <tr>\n",
              "      <th>0</th>\n",
              "      <td>2000-01-03</td>\n",
              "      <td>1.5172</td>\n",
              "      <td>0.9847</td>\n",
              "      <td>1.9033</td>\n",
              "      <td>0.6146</td>\n",
              "      <td>1.805</td>\n",
              "      <td>1.4465</td>\n",
              "      <td>8.2798</td>\n",
              "      <td>7.7765</td>\n",
              "      <td>43.55</td>\n",
              "      <td>1128</td>\n",
              "      <td>9.4015</td>\n",
              "      <td>6.126</td>\n",
              "      <td>1.6563</td>\n",
              "      <td>7.329</td>\n",
              "      <td>101.7</td>\n",
              "      <td>3.8</td>\n",
              "      <td>7.964</td>\n",
              "      <td>8.443</td>\n",
              "      <td>72.3</td>\n",
              "      <td>1.5808</td>\n",
              "      <td>31.38</td>\n",
              "      <td>36.97</td>\n",
              "    </tr>\n",
              "    <tr>\n",
              "      <th>1</th>\n",
              "      <td>2000-01-04</td>\n",
              "      <td>1.5239</td>\n",
              "      <td>0.97</td>\n",
              "      <td>1.9238</td>\n",
              "      <td>0.6109</td>\n",
              "      <td>1.8405</td>\n",
              "      <td>1.4518</td>\n",
              "      <td>8.2799</td>\n",
              "      <td>7.7775</td>\n",
              "      <td>43.55</td>\n",
              "      <td>1122.5</td>\n",
              "      <td>9.457</td>\n",
              "      <td>6.085</td>\n",
              "      <td>1.6535</td>\n",
              "      <td>7.218</td>\n",
              "      <td>103.09</td>\n",
              "      <td>3.8</td>\n",
              "      <td>7.934</td>\n",
              "      <td>8.36</td>\n",
              "      <td>72.65</td>\n",
              "      <td>1.5565</td>\n",
              "      <td>30.6</td>\n",
              "      <td>37.13</td>\n",
              "    </tr>\n",
              "    <tr>\n",
              "      <th>2</th>\n",
              "      <td>2000-01-05</td>\n",
              "      <td>1.5267</td>\n",
              "      <td>0.9676</td>\n",
              "      <td>1.9339</td>\n",
              "      <td>0.6092</td>\n",
              "      <td>1.856</td>\n",
              "      <td>1.4518</td>\n",
              "      <td>8.2798</td>\n",
              "      <td>7.778</td>\n",
              "      <td>43.55</td>\n",
              "      <td>1135</td>\n",
              "      <td>9.535</td>\n",
              "      <td>6.07</td>\n",
              "      <td>1.656</td>\n",
              "      <td>7.208</td>\n",
              "      <td>103.77</td>\n",
              "      <td>3.8</td>\n",
              "      <td>7.935</td>\n",
              "      <td>8.353</td>\n",
              "      <td>72.95</td>\n",
              "      <td>1.5526</td>\n",
              "      <td>30.8</td>\n",
              "      <td>37.1</td>\n",
              "    </tr>\n",
              "    <tr>\n",
              "      <th>3</th>\n",
              "      <td>2000-01-06</td>\n",
              "      <td>1.5291</td>\n",
              "      <td>0.9686</td>\n",
              "      <td>1.9436</td>\n",
              "      <td>0.607</td>\n",
              "      <td>1.84</td>\n",
              "      <td>1.4571</td>\n",
              "      <td>8.2797</td>\n",
              "      <td>7.7785</td>\n",
              "      <td>43.55</td>\n",
              "      <td>1146.5</td>\n",
              "      <td>9.567</td>\n",
              "      <td>6.08</td>\n",
              "      <td>1.6655</td>\n",
              "      <td>7.2125</td>\n",
              "      <td>105.19</td>\n",
              "      <td>3.8</td>\n",
              "      <td>7.94</td>\n",
              "      <td>8.3675</td>\n",
              "      <td>72.95</td>\n",
              "      <td>1.554</td>\n",
              "      <td>31.75</td>\n",
              "      <td>37.62</td>\n",
              "    </tr>\n",
              "    <tr>\n",
              "      <th>4</th>\n",
              "      <td>2000-01-07</td>\n",
              "      <td>1.5272</td>\n",
              "      <td>0.9714</td>\n",
              "      <td>1.938</td>\n",
              "      <td>0.6104</td>\n",
              "      <td>1.831</td>\n",
              "      <td>1.4505</td>\n",
              "      <td>8.2794</td>\n",
              "      <td>7.7783</td>\n",
              "      <td>43.55</td>\n",
              "      <td>1138</td>\n",
              "      <td>9.52</td>\n",
              "      <td>6.057</td>\n",
              "      <td>1.6625</td>\n",
              "      <td>7.2285</td>\n",
              "      <td>105.17</td>\n",
              "      <td>3.8</td>\n",
              "      <td>7.966</td>\n",
              "      <td>8.415</td>\n",
              "      <td>73.15</td>\n",
              "      <td>1.5623</td>\n",
              "      <td>30.85</td>\n",
              "      <td>37.3</td>\n",
              "    </tr>\n",
              "    <tr>\n",
              "      <th>...</th>\n",
              "      <td>...</td>\n",
              "      <td>...</td>\n",
              "      <td>...</td>\n",
              "      <td>...</td>\n",
              "      <td>...</td>\n",
              "      <td>...</td>\n",
              "      <td>...</td>\n",
              "      <td>...</td>\n",
              "      <td>...</td>\n",
              "      <td>...</td>\n",
              "      <td>...</td>\n",
              "      <td>...</td>\n",
              "      <td>...</td>\n",
              "      <td>...</td>\n",
              "      <td>...</td>\n",
              "      <td>...</td>\n",
              "      <td>...</td>\n",
              "      <td>...</td>\n",
              "      <td>...</td>\n",
              "      <td>...</td>\n",
              "      <td>...</td>\n",
              "      <td>...</td>\n",
              "      <td>...</td>\n",
              "    </tr>\n",
              "    <tr>\n",
              "      <th>5212</th>\n",
              "      <td>2019-12-25</td>\n",
              "      <td>ND</td>\n",
              "      <td>ND</td>\n",
              "      <td>ND</td>\n",
              "      <td>ND</td>\n",
              "      <td>ND</td>\n",
              "      <td>ND</td>\n",
              "      <td>ND</td>\n",
              "      <td>ND</td>\n",
              "      <td>ND</td>\n",
              "      <td>ND</td>\n",
              "      <td>ND</td>\n",
              "      <td>ND</td>\n",
              "      <td>ND</td>\n",
              "      <td>ND</td>\n",
              "      <td>ND</td>\n",
              "      <td>ND</td>\n",
              "      <td>ND</td>\n",
              "      <td>ND</td>\n",
              "      <td>ND</td>\n",
              "      <td>ND</td>\n",
              "      <td>ND</td>\n",
              "      <td>ND</td>\n",
              "    </tr>\n",
              "    <tr>\n",
              "      <th>5213</th>\n",
              "      <td>2019-12-26</td>\n",
              "      <td>1.4411</td>\n",
              "      <td>0.9007</td>\n",
              "      <td>1.5002</td>\n",
              "      <td>0.7688</td>\n",
              "      <td>4.0602</td>\n",
              "      <td>1.3124</td>\n",
              "      <td>6.9949</td>\n",
              "      <td>7.788</td>\n",
              "      <td>71.28</td>\n",
              "      <td>1161.18</td>\n",
              "      <td>18.944</td>\n",
              "      <td>14.132</td>\n",
              "      <td>1.354</td>\n",
              "      <td>6.7295</td>\n",
              "      <td>109.67</td>\n",
              "      <td>4.1337</td>\n",
              "      <td>8.8799</td>\n",
              "      <td>9.4108</td>\n",
              "      <td>181.3</td>\n",
              "      <td>0.9808</td>\n",
              "      <td>30.11</td>\n",
              "      <td>30.15</td>\n",
              "    </tr>\n",
              "    <tr>\n",
              "      <th>5214</th>\n",
              "      <td>2019-12-27</td>\n",
              "      <td>1.4331</td>\n",
              "      <td>0.8949</td>\n",
              "      <td>1.4919</td>\n",
              "      <td>0.7639</td>\n",
              "      <td>4.0507</td>\n",
              "      <td>1.3073</td>\n",
              "      <td>6.9954</td>\n",
              "      <td>7.7874</td>\n",
              "      <td>71.45</td>\n",
              "      <td>1160.87</td>\n",
              "      <td>18.819</td>\n",
              "      <td>14.025</td>\n",
              "      <td>1.352</td>\n",
              "      <td>6.6829</td>\n",
              "      <td>109.47</td>\n",
              "      <td>4.126</td>\n",
              "      <td>8.8291</td>\n",
              "      <td>9.3405</td>\n",
              "      <td>181.35</td>\n",
              "      <td>0.9741</td>\n",
              "      <td>30.09</td>\n",
              "      <td>30.14</td>\n",
              "    </tr>\n",
              "    <tr>\n",
              "      <th>5215</th>\n",
              "      <td>2019-12-30</td>\n",
              "      <td>1.4278</td>\n",
              "      <td>0.8915</td>\n",
              "      <td>1.4846</td>\n",
              "      <td>0.761</td>\n",
              "      <td>4.0152</td>\n",
              "      <td>1.3058</td>\n",
              "      <td>6.9864</td>\n",
              "      <td>7.7857</td>\n",
              "      <td>71.3</td>\n",
              "      <td>1155.75</td>\n",
              "      <td>18.863</td>\n",
              "      <td>14.056</td>\n",
              "      <td>1.3483</td>\n",
              "      <td>6.6589</td>\n",
              "      <td>108.85</td>\n",
              "      <td>4.1053</td>\n",
              "      <td>8.7839</td>\n",
              "      <td>9.3145</td>\n",
              "      <td>181.6</td>\n",
              "      <td>0.9677</td>\n",
              "      <td>30.04</td>\n",
              "      <td>29.94</td>\n",
              "    </tr>\n",
              "    <tr>\n",
              "      <th>5216</th>\n",
              "      <td>2019-12-31</td>\n",
              "      <td>1.4225</td>\n",
              "      <td>0.8907</td>\n",
              "      <td>1.4826</td>\n",
              "      <td>0.7536</td>\n",
              "      <td>4.019</td>\n",
              "      <td>1.2962</td>\n",
              "      <td>6.9618</td>\n",
              "      <td>7.7894</td>\n",
              "      <td>71.36</td>\n",
              "      <td>1155.46</td>\n",
              "      <td>18.86</td>\n",
              "      <td>13.973</td>\n",
              "      <td>1.3446</td>\n",
              "      <td>6.6554</td>\n",
              "      <td>108.67</td>\n",
              "      <td>4.0918</td>\n",
              "      <td>8.7823</td>\n",
              "      <td>9.3425</td>\n",
              "      <td>181.3</td>\n",
              "      <td>0.9677</td>\n",
              "      <td>29.91</td>\n",
              "      <td>29.75</td>\n",
              "    </tr>\n",
              "  </tbody>\n",
              "</table>\n",
              "<p>5217 rows × 23 columns</p>\n",
              "</div>"
            ],
            "text/plain": [
              "      Time Serie  ... THAILAND - BAHT/US$\n",
              "0     2000-01-03  ...               36.97\n",
              "1     2000-01-04  ...               37.13\n",
              "2     2000-01-05  ...                37.1\n",
              "3     2000-01-06  ...               37.62\n",
              "4     2000-01-07  ...                37.3\n",
              "...          ...  ...                 ...\n",
              "5212  2019-12-25  ...                  ND\n",
              "5213  2019-12-26  ...               30.15\n",
              "5214  2019-12-27  ...               30.14\n",
              "5215  2019-12-30  ...               29.94\n",
              "5216  2019-12-31  ...               29.75\n",
              "\n",
              "[5217 rows x 23 columns]"
            ]
          },
          "metadata": {
            "tags": []
          },
          "execution_count": 12
        }
      ]
    },
    {
      "cell_type": "code",
      "metadata": {
        "id": "fGnxPXL_AE-8",
        "colab_type": "code",
        "outputId": "974ef4ac-6ef0-4ab2-ff55-ae70c7d8c5c9",
        "colab": {
          "base_uri": "https://localhost:8080/",
          "height": 235
        }
      },
      "source": [
        "xdf.columns"
      ],
      "execution_count": 0,
      "outputs": [
        {
          "output_type": "execute_result",
          "data": {
            "text/plain": [
              "Index(['Time Serie', 'AUSTRALIA - AUSTRALIAN DOLLAR/US$',\n",
              "       'EURO AREA - EURO/US$', 'NEW ZEALAND - NEW ZELAND DOLLAR/US$',\n",
              "       'UNITED KINGDOM - UNITED KINGDOM POUND/US$', 'BRAZIL - REAL/US$',\n",
              "       'CANADA - CANADIAN DOLLAR/US$', 'CHINA - YUAN/US$',\n",
              "       'HONG KONG - HONG KONG DOLLAR/US$', 'INDIA - INDIAN RUPEE/US$',\n",
              "       'KOREA - WON/US$', 'MEXICO - MEXICAN PESO/US$',\n",
              "       'SOUTH AFRICA - RAND/US$', 'SINGAPORE - SINGAPORE DOLLAR/US$',\n",
              "       'DENMARK - DANISH KRONE/US$', 'JAPAN - YEN/US$',\n",
              "       'MALAYSIA - RINGGIT/US$', 'NORWAY - NORWEGIAN KRONE/US$',\n",
              "       'SWEDEN - KRONA/US$', 'SRI LANKA - SRI LANKAN RUPEE/US$',\n",
              "       'SWITZERLAND - FRANC/US$', 'TAIWAN - NEW TAIWAN DOLLAR/US$',\n",
              "       'THAILAND - BAHT/US$'],\n",
              "      dtype='object')"
            ]
          },
          "metadata": {
            "tags": []
          },
          "execution_count": 13
        }
      ]
    },
    {
      "cell_type": "code",
      "metadata": {
        "id": "fetRYnKI72iW",
        "colab_type": "code",
        "colab": {}
      },
      "source": [
        "# RENAME DATE attribute\n",
        "xdf.rename(columns={'Time Serie':'DATE'}, inplace=True) "
      ],
      "execution_count": 0,
      "outputs": []
    },
    {
      "cell_type": "code",
      "metadata": {
        "id": "Plsw9qdVryEq",
        "colab_type": "code",
        "colab": {}
      },
      "source": [
        "# replace ND with nan and then replace their values with backward and forward values.\n",
        "xdf = xdf.replace(\"ND\", np.nan)\n",
        "xdf = xdf.fillna(method='bfill').fillna(method='ffill')"
      ],
      "execution_count": 0,
      "outputs": []
    },
    {
      "cell_type": "code",
      "metadata": {
        "id": "yPB8n1cPsD06",
        "colab_type": "code",
        "colab": {}
      },
      "source": [
        "# set DATE column as index of the dataframe:\n",
        "xdf = xdf.set_index(\"DATE\")\n",
        "# xdf.head()"
      ],
      "execution_count": 0,
      "outputs": []
    },
    {
      "cell_type": "code",
      "metadata": {
        "id": "uS2mBHUpsPsN",
        "colab_type": "code",
        "colab": {}
      },
      "source": [
        "xdf.index = pd.to_datetime(xdf.index)"
      ],
      "execution_count": 0,
      "outputs": []
    },
    {
      "cell_type": "code",
      "metadata": {
        "id": "wrqdRjJtsPvY",
        "colab_type": "code",
        "colab": {}
      },
      "source": [
        "# typeconversion of all\n",
        "xdf = xdf.astype(float)"
      ],
      "execution_count": 0,
      "outputs": []
    },
    {
      "cell_type": "code",
      "metadata": {
        "id": "o_t4Kq6atCPA",
        "colab_type": "code",
        "outputId": "45b4b156-ca77-4107-e772-470cd454fe42",
        "colab": {
          "base_uri": "https://localhost:8080/",
          "height": 34
        }
      },
      "source": [
        "# length of records:\n",
        "len(xdf)"
      ],
      "execution_count": 0,
      "outputs": [
        {
          "output_type": "execute_result",
          "data": {
            "text/plain": [
              "5217"
            ]
          },
          "metadata": {
            "tags": []
          },
          "execution_count": 19
        }
      ]
    },
    {
      "cell_type": "code",
      "metadata": {
        "id": "8YbF8S5Ttge-",
        "colab_type": "code",
        "outputId": "2a8d4283-a440-47cc-a551-64496c41cc38",
        "colab": {
          "base_uri": "https://localhost:8080/",
          "height": 34
        }
      },
      "source": [
        "print(\"Total number of days between {} and {} are {}\".format(xdf.index.min().date(), xdf.index.max().date(), (xdf.index.max() - xdf.index.min()).days+1))"
      ],
      "execution_count": 0,
      "outputs": [
        {
          "output_type": "stream",
          "text": [
            "Total number of days between 2000-01-03 and 2019-12-31 are 7303\n"
          ],
          "name": "stdout"
        }
      ]
    },
    {
      "cell_type": "code",
      "metadata": {
        "id": "qJjygrcNt2iq",
        "colab_type": "code",
        "colab": {}
      },
      "source": [
        "# Prepare a full dataframe\n",
        "num_records = 7303\n",
        "data = {}"
      ],
      "execution_count": 0,
      "outputs": []
    },
    {
      "cell_type": "code",
      "metadata": {
        "id": "wsFvyU2suVG7",
        "colab_type": "code",
        "colab": {}
      },
      "source": [
        "# fill all the columns with columns\n",
        "data[\"DATE\"] = pd.date_range(\"2000-01-03\", \"2019-12-31\")"
      ],
      "execution_count": 0,
      "outputs": []
    },
    {
      "cell_type": "code",
      "metadata": {
        "id": "-JJzAHSUugKX",
        "colab_type": "code",
        "outputId": "e37f51c6-b0c3-4b62-a82e-1a860448fbcf",
        "colab": {
          "base_uri": "https://localhost:8080/",
          "height": 151
        }
      },
      "source": [
        "# all th range from 2000 jan to 2019 dec\n",
        "data['DATE']"
      ],
      "execution_count": 0,
      "outputs": [
        {
          "output_type": "execute_result",
          "data": {
            "text/plain": [
              "DatetimeIndex(['2000-01-03', '2000-01-04', '2000-01-05', '2000-01-06',\n",
              "               '2000-01-07', '2000-01-08', '2000-01-09', '2000-01-10',\n",
              "               '2000-01-11', '2000-01-12',\n",
              "               ...\n",
              "               '2019-12-22', '2019-12-23', '2019-12-24', '2019-12-25',\n",
              "               '2019-12-26', '2019-12-27', '2019-12-28', '2019-12-29',\n",
              "               '2019-12-30', '2019-12-31'],\n",
              "              dtype='datetime64[ns]', length=7303, freq='D')"
            ]
          },
          "metadata": {
            "tags": []
          },
          "execution_count": 23
        }
      ]
    },
    {
      "cell_type": "code",
      "metadata": {
        "id": "6mntd2nLuh7F",
        "colab_type": "code",
        "outputId": "8cd38170-7355-49e5-993d-a5e8f9d1f0cd",
        "colab": {
          "base_uri": "https://localhost:8080/",
          "height": 402
        }
      },
      "source": [
        "complete = pd.DataFrame(data=data)\n",
        "# new dataframe \n",
        "complete"
      ],
      "execution_count": 0,
      "outputs": [
        {
          "output_type": "execute_result",
          "data": {
            "text/html": [
              "<div>\n",
              "<style scoped>\n",
              "    .dataframe tbody tr th:only-of-type {\n",
              "        vertical-align: middle;\n",
              "    }\n",
              "\n",
              "    .dataframe tbody tr th {\n",
              "        vertical-align: top;\n",
              "    }\n",
              "\n",
              "    .dataframe thead th {\n",
              "        text-align: right;\n",
              "    }\n",
              "</style>\n",
              "<table border=\"1\" class=\"dataframe\">\n",
              "  <thead>\n",
              "    <tr style=\"text-align: right;\">\n",
              "      <th></th>\n",
              "      <th>DATE</th>\n",
              "    </tr>\n",
              "  </thead>\n",
              "  <tbody>\n",
              "    <tr>\n",
              "      <th>0</th>\n",
              "      <td>2000-01-03</td>\n",
              "    </tr>\n",
              "    <tr>\n",
              "      <th>1</th>\n",
              "      <td>2000-01-04</td>\n",
              "    </tr>\n",
              "    <tr>\n",
              "      <th>2</th>\n",
              "      <td>2000-01-05</td>\n",
              "    </tr>\n",
              "    <tr>\n",
              "      <th>3</th>\n",
              "      <td>2000-01-06</td>\n",
              "    </tr>\n",
              "    <tr>\n",
              "      <th>4</th>\n",
              "      <td>2000-01-07</td>\n",
              "    </tr>\n",
              "    <tr>\n",
              "      <th>...</th>\n",
              "      <td>...</td>\n",
              "    </tr>\n",
              "    <tr>\n",
              "      <th>7298</th>\n",
              "      <td>2019-12-27</td>\n",
              "    </tr>\n",
              "    <tr>\n",
              "      <th>7299</th>\n",
              "      <td>2019-12-28</td>\n",
              "    </tr>\n",
              "    <tr>\n",
              "      <th>7300</th>\n",
              "      <td>2019-12-29</td>\n",
              "    </tr>\n",
              "    <tr>\n",
              "      <th>7301</th>\n",
              "      <td>2019-12-30</td>\n",
              "    </tr>\n",
              "    <tr>\n",
              "      <th>7302</th>\n",
              "      <td>2019-12-31</td>\n",
              "    </tr>\n",
              "  </tbody>\n",
              "</table>\n",
              "<p>7303 rows × 1 columns</p>\n",
              "</div>"
            ],
            "text/plain": [
              "           DATE\n",
              "0    2000-01-03\n",
              "1    2000-01-04\n",
              "2    2000-01-05\n",
              "3    2000-01-06\n",
              "4    2000-01-07\n",
              "...         ...\n",
              "7298 2019-12-27\n",
              "7299 2019-12-28\n",
              "7300 2019-12-29\n",
              "7301 2019-12-30\n",
              "7302 2019-12-31\n",
              "\n",
              "[7303 rows x 1 columns]"
            ]
          },
          "metadata": {
            "tags": []
          },
          "execution_count": 24
        }
      ]
    },
    {
      "cell_type": "code",
      "metadata": {
        "id": "Ldgumu6RuO6q",
        "colab_type": "code",
        "outputId": "5dbfc262-475f-45ca-922f-8fef45924de2",
        "colab": {
          "base_uri": "https://localhost:8080/",
          "height": 396
        }
      },
      "source": [
        "xdf.head()"
      ],
      "execution_count": 0,
      "outputs": [
        {
          "output_type": "execute_result",
          "data": {
            "text/html": [
              "<div>\n",
              "<style scoped>\n",
              "    .dataframe tbody tr th:only-of-type {\n",
              "        vertical-align: middle;\n",
              "    }\n",
              "\n",
              "    .dataframe tbody tr th {\n",
              "        vertical-align: top;\n",
              "    }\n",
              "\n",
              "    .dataframe thead th {\n",
              "        text-align: right;\n",
              "    }\n",
              "</style>\n",
              "<table border=\"1\" class=\"dataframe\">\n",
              "  <thead>\n",
              "    <tr style=\"text-align: right;\">\n",
              "      <th></th>\n",
              "      <th>AUSTRALIA - AUSTRALIAN DOLLAR/US$</th>\n",
              "      <th>EURO AREA - EURO/US$</th>\n",
              "      <th>NEW ZEALAND - NEW ZELAND DOLLAR/US$</th>\n",
              "      <th>UNITED KINGDOM - UNITED KINGDOM POUND/US$</th>\n",
              "      <th>BRAZIL - REAL/US$</th>\n",
              "      <th>CANADA - CANADIAN DOLLAR/US$</th>\n",
              "      <th>CHINA - YUAN/US$</th>\n",
              "      <th>HONG KONG - HONG KONG DOLLAR/US$</th>\n",
              "      <th>INDIA - INDIAN RUPEE/US$</th>\n",
              "      <th>KOREA - WON/US$</th>\n",
              "      <th>MEXICO - MEXICAN PESO/US$</th>\n",
              "      <th>SOUTH AFRICA - RAND/US$</th>\n",
              "      <th>SINGAPORE - SINGAPORE DOLLAR/US$</th>\n",
              "      <th>DENMARK - DANISH KRONE/US$</th>\n",
              "      <th>JAPAN - YEN/US$</th>\n",
              "      <th>MALAYSIA - RINGGIT/US$</th>\n",
              "      <th>NORWAY - NORWEGIAN KRONE/US$</th>\n",
              "      <th>SWEDEN - KRONA/US$</th>\n",
              "      <th>SRI LANKA - SRI LANKAN RUPEE/US$</th>\n",
              "      <th>SWITZERLAND - FRANC/US$</th>\n",
              "      <th>TAIWAN - NEW TAIWAN DOLLAR/US$</th>\n",
              "      <th>THAILAND - BAHT/US$</th>\n",
              "    </tr>\n",
              "    <tr>\n",
              "      <th>DATE</th>\n",
              "      <th></th>\n",
              "      <th></th>\n",
              "      <th></th>\n",
              "      <th></th>\n",
              "      <th></th>\n",
              "      <th></th>\n",
              "      <th></th>\n",
              "      <th></th>\n",
              "      <th></th>\n",
              "      <th></th>\n",
              "      <th></th>\n",
              "      <th></th>\n",
              "      <th></th>\n",
              "      <th></th>\n",
              "      <th></th>\n",
              "      <th></th>\n",
              "      <th></th>\n",
              "      <th></th>\n",
              "      <th></th>\n",
              "      <th></th>\n",
              "      <th></th>\n",
              "      <th></th>\n",
              "    </tr>\n",
              "  </thead>\n",
              "  <tbody>\n",
              "    <tr>\n",
              "      <th>2000-01-03</th>\n",
              "      <td>1.5172</td>\n",
              "      <td>0.9847</td>\n",
              "      <td>1.9033</td>\n",
              "      <td>0.6146</td>\n",
              "      <td>1.8050</td>\n",
              "      <td>1.4465</td>\n",
              "      <td>8.2798</td>\n",
              "      <td>7.7765</td>\n",
              "      <td>43.55</td>\n",
              "      <td>1128.0</td>\n",
              "      <td>9.4015</td>\n",
              "      <td>6.126</td>\n",
              "      <td>1.6563</td>\n",
              "      <td>7.3290</td>\n",
              "      <td>101.70</td>\n",
              "      <td>3.8</td>\n",
              "      <td>7.964</td>\n",
              "      <td>8.4430</td>\n",
              "      <td>72.30</td>\n",
              "      <td>1.5808</td>\n",
              "      <td>31.38</td>\n",
              "      <td>36.97</td>\n",
              "    </tr>\n",
              "    <tr>\n",
              "      <th>2000-01-04</th>\n",
              "      <td>1.5239</td>\n",
              "      <td>0.9700</td>\n",
              "      <td>1.9238</td>\n",
              "      <td>0.6109</td>\n",
              "      <td>1.8405</td>\n",
              "      <td>1.4518</td>\n",
              "      <td>8.2799</td>\n",
              "      <td>7.7775</td>\n",
              "      <td>43.55</td>\n",
              "      <td>1122.5</td>\n",
              "      <td>9.4570</td>\n",
              "      <td>6.085</td>\n",
              "      <td>1.6535</td>\n",
              "      <td>7.2180</td>\n",
              "      <td>103.09</td>\n",
              "      <td>3.8</td>\n",
              "      <td>7.934</td>\n",
              "      <td>8.3600</td>\n",
              "      <td>72.65</td>\n",
              "      <td>1.5565</td>\n",
              "      <td>30.60</td>\n",
              "      <td>37.13</td>\n",
              "    </tr>\n",
              "    <tr>\n",
              "      <th>2000-01-05</th>\n",
              "      <td>1.5267</td>\n",
              "      <td>0.9676</td>\n",
              "      <td>1.9339</td>\n",
              "      <td>0.6092</td>\n",
              "      <td>1.8560</td>\n",
              "      <td>1.4518</td>\n",
              "      <td>8.2798</td>\n",
              "      <td>7.7780</td>\n",
              "      <td>43.55</td>\n",
              "      <td>1135.0</td>\n",
              "      <td>9.5350</td>\n",
              "      <td>6.070</td>\n",
              "      <td>1.6560</td>\n",
              "      <td>7.2080</td>\n",
              "      <td>103.77</td>\n",
              "      <td>3.8</td>\n",
              "      <td>7.935</td>\n",
              "      <td>8.3530</td>\n",
              "      <td>72.95</td>\n",
              "      <td>1.5526</td>\n",
              "      <td>30.80</td>\n",
              "      <td>37.10</td>\n",
              "    </tr>\n",
              "    <tr>\n",
              "      <th>2000-01-06</th>\n",
              "      <td>1.5291</td>\n",
              "      <td>0.9686</td>\n",
              "      <td>1.9436</td>\n",
              "      <td>0.6070</td>\n",
              "      <td>1.8400</td>\n",
              "      <td>1.4571</td>\n",
              "      <td>8.2797</td>\n",
              "      <td>7.7785</td>\n",
              "      <td>43.55</td>\n",
              "      <td>1146.5</td>\n",
              "      <td>9.5670</td>\n",
              "      <td>6.080</td>\n",
              "      <td>1.6655</td>\n",
              "      <td>7.2125</td>\n",
              "      <td>105.19</td>\n",
              "      <td>3.8</td>\n",
              "      <td>7.940</td>\n",
              "      <td>8.3675</td>\n",
              "      <td>72.95</td>\n",
              "      <td>1.5540</td>\n",
              "      <td>31.75</td>\n",
              "      <td>37.62</td>\n",
              "    </tr>\n",
              "    <tr>\n",
              "      <th>2000-01-07</th>\n",
              "      <td>1.5272</td>\n",
              "      <td>0.9714</td>\n",
              "      <td>1.9380</td>\n",
              "      <td>0.6104</td>\n",
              "      <td>1.8310</td>\n",
              "      <td>1.4505</td>\n",
              "      <td>8.2794</td>\n",
              "      <td>7.7783</td>\n",
              "      <td>43.55</td>\n",
              "      <td>1138.0</td>\n",
              "      <td>9.5200</td>\n",
              "      <td>6.057</td>\n",
              "      <td>1.6625</td>\n",
              "      <td>7.2285</td>\n",
              "      <td>105.17</td>\n",
              "      <td>3.8</td>\n",
              "      <td>7.966</td>\n",
              "      <td>8.4150</td>\n",
              "      <td>73.15</td>\n",
              "      <td>1.5623</td>\n",
              "      <td>30.85</td>\n",
              "      <td>37.30</td>\n",
              "    </tr>\n",
              "  </tbody>\n",
              "</table>\n",
              "</div>"
            ],
            "text/plain": [
              "            AUSTRALIA - AUSTRALIAN DOLLAR/US$  ...  THAILAND - BAHT/US$\n",
              "DATE                                           ...                     \n",
              "2000-01-03                             1.5172  ...                36.97\n",
              "2000-01-04                             1.5239  ...                37.13\n",
              "2000-01-05                             1.5267  ...                37.10\n",
              "2000-01-06                             1.5291  ...                37.62\n",
              "2000-01-07                             1.5272  ...                37.30\n",
              "\n",
              "[5 rows x 22 columns]"
            ]
          },
          "metadata": {
            "tags": []
          },
          "execution_count": 25
        }
      ]
    },
    {
      "cell_type": "code",
      "metadata": {
        "id": "bsNRg_knur5i",
        "colab_type": "code",
        "colab": {}
      },
      "source": [
        "# index replace:\n",
        "complete = complete.set_index(\"DATE\")"
      ],
      "execution_count": 0,
      "outputs": []
    },
    {
      "cell_type": "code",
      "metadata": {
        "id": "GyAooz-wDtxr",
        "colab_type": "code",
        "colab": {}
      },
      "source": [
        "complete = pd.concat([complete,xdf], axis=1)"
      ],
      "execution_count": 0,
      "outputs": []
    },
    {
      "cell_type": "code",
      "metadata": {
        "id": "8hq-lCE0usCX",
        "colab_type": "code",
        "outputId": "2fd529bd-5b50-446a-8cc7-16efe388ead7",
        "colab": {
          "base_uri": "https://localhost:8080/",
          "height": 686
        }
      },
      "source": [
        "complete"
      ],
      "execution_count": 0,
      "outputs": [
        {
          "output_type": "execute_result",
          "data": {
            "text/html": [
              "<div>\n",
              "<style scoped>\n",
              "    .dataframe tbody tr th:only-of-type {\n",
              "        vertical-align: middle;\n",
              "    }\n",
              "\n",
              "    .dataframe tbody tr th {\n",
              "        vertical-align: top;\n",
              "    }\n",
              "\n",
              "    .dataframe thead th {\n",
              "        text-align: right;\n",
              "    }\n",
              "</style>\n",
              "<table border=\"1\" class=\"dataframe\">\n",
              "  <thead>\n",
              "    <tr style=\"text-align: right;\">\n",
              "      <th></th>\n",
              "      <th>AUSTRALIA - AUSTRALIAN DOLLAR/US$</th>\n",
              "      <th>EURO AREA - EURO/US$</th>\n",
              "      <th>NEW ZEALAND - NEW ZELAND DOLLAR/US$</th>\n",
              "      <th>UNITED KINGDOM - UNITED KINGDOM POUND/US$</th>\n",
              "      <th>BRAZIL - REAL/US$</th>\n",
              "      <th>CANADA - CANADIAN DOLLAR/US$</th>\n",
              "      <th>CHINA - YUAN/US$</th>\n",
              "      <th>HONG KONG - HONG KONG DOLLAR/US$</th>\n",
              "      <th>INDIA - INDIAN RUPEE/US$</th>\n",
              "      <th>KOREA - WON/US$</th>\n",
              "      <th>MEXICO - MEXICAN PESO/US$</th>\n",
              "      <th>SOUTH AFRICA - RAND/US$</th>\n",
              "      <th>SINGAPORE - SINGAPORE DOLLAR/US$</th>\n",
              "      <th>DENMARK - DANISH KRONE/US$</th>\n",
              "      <th>JAPAN - YEN/US$</th>\n",
              "      <th>MALAYSIA - RINGGIT/US$</th>\n",
              "      <th>NORWAY - NORWEGIAN KRONE/US$</th>\n",
              "      <th>SWEDEN - KRONA/US$</th>\n",
              "      <th>SRI LANKA - SRI LANKAN RUPEE/US$</th>\n",
              "      <th>SWITZERLAND - FRANC/US$</th>\n",
              "      <th>TAIWAN - NEW TAIWAN DOLLAR/US$</th>\n",
              "      <th>THAILAND - BAHT/US$</th>\n",
              "    </tr>\n",
              "    <tr>\n",
              "      <th>DATE</th>\n",
              "      <th></th>\n",
              "      <th></th>\n",
              "      <th></th>\n",
              "      <th></th>\n",
              "      <th></th>\n",
              "      <th></th>\n",
              "      <th></th>\n",
              "      <th></th>\n",
              "      <th></th>\n",
              "      <th></th>\n",
              "      <th></th>\n",
              "      <th></th>\n",
              "      <th></th>\n",
              "      <th></th>\n",
              "      <th></th>\n",
              "      <th></th>\n",
              "      <th></th>\n",
              "      <th></th>\n",
              "      <th></th>\n",
              "      <th></th>\n",
              "      <th></th>\n",
              "      <th></th>\n",
              "    </tr>\n",
              "  </thead>\n",
              "  <tbody>\n",
              "    <tr>\n",
              "      <th>2000-01-03</th>\n",
              "      <td>1.5172</td>\n",
              "      <td>0.9847</td>\n",
              "      <td>1.9033</td>\n",
              "      <td>0.6146</td>\n",
              "      <td>1.8050</td>\n",
              "      <td>1.4465</td>\n",
              "      <td>8.2798</td>\n",
              "      <td>7.7765</td>\n",
              "      <td>43.55</td>\n",
              "      <td>1128.00</td>\n",
              "      <td>9.4015</td>\n",
              "      <td>6.126</td>\n",
              "      <td>1.6563</td>\n",
              "      <td>7.3290</td>\n",
              "      <td>101.70</td>\n",
              "      <td>3.8000</td>\n",
              "      <td>7.9640</td>\n",
              "      <td>8.4430</td>\n",
              "      <td>72.30</td>\n",
              "      <td>1.5808</td>\n",
              "      <td>31.38</td>\n",
              "      <td>36.97</td>\n",
              "    </tr>\n",
              "    <tr>\n",
              "      <th>2000-01-04</th>\n",
              "      <td>1.5239</td>\n",
              "      <td>0.9700</td>\n",
              "      <td>1.9238</td>\n",
              "      <td>0.6109</td>\n",
              "      <td>1.8405</td>\n",
              "      <td>1.4518</td>\n",
              "      <td>8.2799</td>\n",
              "      <td>7.7775</td>\n",
              "      <td>43.55</td>\n",
              "      <td>1122.50</td>\n",
              "      <td>9.4570</td>\n",
              "      <td>6.085</td>\n",
              "      <td>1.6535</td>\n",
              "      <td>7.2180</td>\n",
              "      <td>103.09</td>\n",
              "      <td>3.8000</td>\n",
              "      <td>7.9340</td>\n",
              "      <td>8.3600</td>\n",
              "      <td>72.65</td>\n",
              "      <td>1.5565</td>\n",
              "      <td>30.60</td>\n",
              "      <td>37.13</td>\n",
              "    </tr>\n",
              "    <tr>\n",
              "      <th>2000-01-05</th>\n",
              "      <td>1.5267</td>\n",
              "      <td>0.9676</td>\n",
              "      <td>1.9339</td>\n",
              "      <td>0.6092</td>\n",
              "      <td>1.8560</td>\n",
              "      <td>1.4518</td>\n",
              "      <td>8.2798</td>\n",
              "      <td>7.7780</td>\n",
              "      <td>43.55</td>\n",
              "      <td>1135.00</td>\n",
              "      <td>9.5350</td>\n",
              "      <td>6.070</td>\n",
              "      <td>1.6560</td>\n",
              "      <td>7.2080</td>\n",
              "      <td>103.77</td>\n",
              "      <td>3.8000</td>\n",
              "      <td>7.9350</td>\n",
              "      <td>8.3530</td>\n",
              "      <td>72.95</td>\n",
              "      <td>1.5526</td>\n",
              "      <td>30.80</td>\n",
              "      <td>37.10</td>\n",
              "    </tr>\n",
              "    <tr>\n",
              "      <th>2000-01-06</th>\n",
              "      <td>1.5291</td>\n",
              "      <td>0.9686</td>\n",
              "      <td>1.9436</td>\n",
              "      <td>0.6070</td>\n",
              "      <td>1.8400</td>\n",
              "      <td>1.4571</td>\n",
              "      <td>8.2797</td>\n",
              "      <td>7.7785</td>\n",
              "      <td>43.55</td>\n",
              "      <td>1146.50</td>\n",
              "      <td>9.5670</td>\n",
              "      <td>6.080</td>\n",
              "      <td>1.6655</td>\n",
              "      <td>7.2125</td>\n",
              "      <td>105.19</td>\n",
              "      <td>3.8000</td>\n",
              "      <td>7.9400</td>\n",
              "      <td>8.3675</td>\n",
              "      <td>72.95</td>\n",
              "      <td>1.5540</td>\n",
              "      <td>31.75</td>\n",
              "      <td>37.62</td>\n",
              "    </tr>\n",
              "    <tr>\n",
              "      <th>2000-01-07</th>\n",
              "      <td>1.5272</td>\n",
              "      <td>0.9714</td>\n",
              "      <td>1.9380</td>\n",
              "      <td>0.6104</td>\n",
              "      <td>1.8310</td>\n",
              "      <td>1.4505</td>\n",
              "      <td>8.2794</td>\n",
              "      <td>7.7783</td>\n",
              "      <td>43.55</td>\n",
              "      <td>1138.00</td>\n",
              "      <td>9.5200</td>\n",
              "      <td>6.057</td>\n",
              "      <td>1.6625</td>\n",
              "      <td>7.2285</td>\n",
              "      <td>105.17</td>\n",
              "      <td>3.8000</td>\n",
              "      <td>7.9660</td>\n",
              "      <td>8.4150</td>\n",
              "      <td>73.15</td>\n",
              "      <td>1.5623</td>\n",
              "      <td>30.85</td>\n",
              "      <td>37.30</td>\n",
              "    </tr>\n",
              "    <tr>\n",
              "      <th>...</th>\n",
              "      <td>...</td>\n",
              "      <td>...</td>\n",
              "      <td>...</td>\n",
              "      <td>...</td>\n",
              "      <td>...</td>\n",
              "      <td>...</td>\n",
              "      <td>...</td>\n",
              "      <td>...</td>\n",
              "      <td>...</td>\n",
              "      <td>...</td>\n",
              "      <td>...</td>\n",
              "      <td>...</td>\n",
              "      <td>...</td>\n",
              "      <td>...</td>\n",
              "      <td>...</td>\n",
              "      <td>...</td>\n",
              "      <td>...</td>\n",
              "      <td>...</td>\n",
              "      <td>...</td>\n",
              "      <td>...</td>\n",
              "      <td>...</td>\n",
              "      <td>...</td>\n",
              "    </tr>\n",
              "    <tr>\n",
              "      <th>2019-12-27</th>\n",
              "      <td>1.4331</td>\n",
              "      <td>0.8949</td>\n",
              "      <td>1.4919</td>\n",
              "      <td>0.7639</td>\n",
              "      <td>4.0507</td>\n",
              "      <td>1.3073</td>\n",
              "      <td>6.9954</td>\n",
              "      <td>7.7874</td>\n",
              "      <td>71.45</td>\n",
              "      <td>1160.87</td>\n",
              "      <td>18.8190</td>\n",
              "      <td>14.025</td>\n",
              "      <td>1.3520</td>\n",
              "      <td>6.6829</td>\n",
              "      <td>109.47</td>\n",
              "      <td>4.1260</td>\n",
              "      <td>8.8291</td>\n",
              "      <td>9.3405</td>\n",
              "      <td>181.35</td>\n",
              "      <td>0.9741</td>\n",
              "      <td>30.09</td>\n",
              "      <td>30.14</td>\n",
              "    </tr>\n",
              "    <tr>\n",
              "      <th>2019-12-28</th>\n",
              "      <td>NaN</td>\n",
              "      <td>NaN</td>\n",
              "      <td>NaN</td>\n",
              "      <td>NaN</td>\n",
              "      <td>NaN</td>\n",
              "      <td>NaN</td>\n",
              "      <td>NaN</td>\n",
              "      <td>NaN</td>\n",
              "      <td>NaN</td>\n",
              "      <td>NaN</td>\n",
              "      <td>NaN</td>\n",
              "      <td>NaN</td>\n",
              "      <td>NaN</td>\n",
              "      <td>NaN</td>\n",
              "      <td>NaN</td>\n",
              "      <td>NaN</td>\n",
              "      <td>NaN</td>\n",
              "      <td>NaN</td>\n",
              "      <td>NaN</td>\n",
              "      <td>NaN</td>\n",
              "      <td>NaN</td>\n",
              "      <td>NaN</td>\n",
              "    </tr>\n",
              "    <tr>\n",
              "      <th>2019-12-29</th>\n",
              "      <td>NaN</td>\n",
              "      <td>NaN</td>\n",
              "      <td>NaN</td>\n",
              "      <td>NaN</td>\n",
              "      <td>NaN</td>\n",
              "      <td>NaN</td>\n",
              "      <td>NaN</td>\n",
              "      <td>NaN</td>\n",
              "      <td>NaN</td>\n",
              "      <td>NaN</td>\n",
              "      <td>NaN</td>\n",
              "      <td>NaN</td>\n",
              "      <td>NaN</td>\n",
              "      <td>NaN</td>\n",
              "      <td>NaN</td>\n",
              "      <td>NaN</td>\n",
              "      <td>NaN</td>\n",
              "      <td>NaN</td>\n",
              "      <td>NaN</td>\n",
              "      <td>NaN</td>\n",
              "      <td>NaN</td>\n",
              "      <td>NaN</td>\n",
              "    </tr>\n",
              "    <tr>\n",
              "      <th>2019-12-30</th>\n",
              "      <td>1.4278</td>\n",
              "      <td>0.8915</td>\n",
              "      <td>1.4846</td>\n",
              "      <td>0.7610</td>\n",
              "      <td>4.0152</td>\n",
              "      <td>1.3058</td>\n",
              "      <td>6.9864</td>\n",
              "      <td>7.7857</td>\n",
              "      <td>71.30</td>\n",
              "      <td>1155.75</td>\n",
              "      <td>18.8630</td>\n",
              "      <td>14.056</td>\n",
              "      <td>1.3483</td>\n",
              "      <td>6.6589</td>\n",
              "      <td>108.85</td>\n",
              "      <td>4.1053</td>\n",
              "      <td>8.7839</td>\n",
              "      <td>9.3145</td>\n",
              "      <td>181.60</td>\n",
              "      <td>0.9677</td>\n",
              "      <td>30.04</td>\n",
              "      <td>29.94</td>\n",
              "    </tr>\n",
              "    <tr>\n",
              "      <th>2019-12-31</th>\n",
              "      <td>1.4225</td>\n",
              "      <td>0.8907</td>\n",
              "      <td>1.4826</td>\n",
              "      <td>0.7536</td>\n",
              "      <td>4.0190</td>\n",
              "      <td>1.2962</td>\n",
              "      <td>6.9618</td>\n",
              "      <td>7.7894</td>\n",
              "      <td>71.36</td>\n",
              "      <td>1155.46</td>\n",
              "      <td>18.8600</td>\n",
              "      <td>13.973</td>\n",
              "      <td>1.3446</td>\n",
              "      <td>6.6554</td>\n",
              "      <td>108.67</td>\n",
              "      <td>4.0918</td>\n",
              "      <td>8.7823</td>\n",
              "      <td>9.3425</td>\n",
              "      <td>181.30</td>\n",
              "      <td>0.9677</td>\n",
              "      <td>29.91</td>\n",
              "      <td>29.75</td>\n",
              "    </tr>\n",
              "  </tbody>\n",
              "</table>\n",
              "<p>7303 rows × 22 columns</p>\n",
              "</div>"
            ],
            "text/plain": [
              "            AUSTRALIA - AUSTRALIAN DOLLAR/US$  ...  THAILAND - BAHT/US$\n",
              "DATE                                           ...                     \n",
              "2000-01-03                             1.5172  ...                36.97\n",
              "2000-01-04                             1.5239  ...                37.13\n",
              "2000-01-05                             1.5267  ...                37.10\n",
              "2000-01-06                             1.5291  ...                37.62\n",
              "2000-01-07                             1.5272  ...                37.30\n",
              "...                                       ...  ...                  ...\n",
              "2019-12-27                             1.4331  ...                30.14\n",
              "2019-12-28                                NaN  ...                  NaN\n",
              "2019-12-29                                NaN  ...                  NaN\n",
              "2019-12-30                             1.4278  ...                29.94\n",
              "2019-12-31                             1.4225  ...                29.75\n",
              "\n",
              "[7303 rows x 22 columns]"
            ]
          },
          "metadata": {
            "tags": []
          },
          "execution_count": 28
        }
      ]
    },
    {
      "cell_type": "code",
      "metadata": {
        "id": "wk8pxUkCu_xx",
        "colab_type": "code",
        "colab": {}
      },
      "source": [
        "# fill na value by above and below rows\n",
        "complete = complete.fillna(method='bfill').fillna(method='ffill')"
      ],
      "execution_count": 0,
      "outputs": []
    },
    {
      "cell_type": "code",
      "metadata": {
        "id": "9BMQ0CggvWtL",
        "colab_type": "code",
        "outputId": "b46bb5d6-357c-4fd6-b57a-6efb8bbf174c",
        "colab": {
          "base_uri": "https://localhost:8080/",
          "height": 396
        }
      },
      "source": [
        "complete.tail()"
      ],
      "execution_count": 0,
      "outputs": [
        {
          "output_type": "execute_result",
          "data": {
            "text/html": [
              "<div>\n",
              "<style scoped>\n",
              "    .dataframe tbody tr th:only-of-type {\n",
              "        vertical-align: middle;\n",
              "    }\n",
              "\n",
              "    .dataframe tbody tr th {\n",
              "        vertical-align: top;\n",
              "    }\n",
              "\n",
              "    .dataframe thead th {\n",
              "        text-align: right;\n",
              "    }\n",
              "</style>\n",
              "<table border=\"1\" class=\"dataframe\">\n",
              "  <thead>\n",
              "    <tr style=\"text-align: right;\">\n",
              "      <th></th>\n",
              "      <th>AUSTRALIA - AUSTRALIAN DOLLAR/US$</th>\n",
              "      <th>EURO AREA - EURO/US$</th>\n",
              "      <th>NEW ZEALAND - NEW ZELAND DOLLAR/US$</th>\n",
              "      <th>UNITED KINGDOM - UNITED KINGDOM POUND/US$</th>\n",
              "      <th>BRAZIL - REAL/US$</th>\n",
              "      <th>CANADA - CANADIAN DOLLAR/US$</th>\n",
              "      <th>CHINA - YUAN/US$</th>\n",
              "      <th>HONG KONG - HONG KONG DOLLAR/US$</th>\n",
              "      <th>INDIA - INDIAN RUPEE/US$</th>\n",
              "      <th>KOREA - WON/US$</th>\n",
              "      <th>MEXICO - MEXICAN PESO/US$</th>\n",
              "      <th>SOUTH AFRICA - RAND/US$</th>\n",
              "      <th>SINGAPORE - SINGAPORE DOLLAR/US$</th>\n",
              "      <th>DENMARK - DANISH KRONE/US$</th>\n",
              "      <th>JAPAN - YEN/US$</th>\n",
              "      <th>MALAYSIA - RINGGIT/US$</th>\n",
              "      <th>NORWAY - NORWEGIAN KRONE/US$</th>\n",
              "      <th>SWEDEN - KRONA/US$</th>\n",
              "      <th>SRI LANKA - SRI LANKAN RUPEE/US$</th>\n",
              "      <th>SWITZERLAND - FRANC/US$</th>\n",
              "      <th>TAIWAN - NEW TAIWAN DOLLAR/US$</th>\n",
              "      <th>THAILAND - BAHT/US$</th>\n",
              "    </tr>\n",
              "    <tr>\n",
              "      <th>DATE</th>\n",
              "      <th></th>\n",
              "      <th></th>\n",
              "      <th></th>\n",
              "      <th></th>\n",
              "      <th></th>\n",
              "      <th></th>\n",
              "      <th></th>\n",
              "      <th></th>\n",
              "      <th></th>\n",
              "      <th></th>\n",
              "      <th></th>\n",
              "      <th></th>\n",
              "      <th></th>\n",
              "      <th></th>\n",
              "      <th></th>\n",
              "      <th></th>\n",
              "      <th></th>\n",
              "      <th></th>\n",
              "      <th></th>\n",
              "      <th></th>\n",
              "      <th></th>\n",
              "      <th></th>\n",
              "    </tr>\n",
              "  </thead>\n",
              "  <tbody>\n",
              "    <tr>\n",
              "      <th>2019-12-27</th>\n",
              "      <td>1.4331</td>\n",
              "      <td>0.8949</td>\n",
              "      <td>1.4919</td>\n",
              "      <td>0.7639</td>\n",
              "      <td>4.0507</td>\n",
              "      <td>1.3073</td>\n",
              "      <td>6.9954</td>\n",
              "      <td>7.7874</td>\n",
              "      <td>71.45</td>\n",
              "      <td>1160.87</td>\n",
              "      <td>18.819</td>\n",
              "      <td>14.025</td>\n",
              "      <td>1.3520</td>\n",
              "      <td>6.6829</td>\n",
              "      <td>109.47</td>\n",
              "      <td>4.1260</td>\n",
              "      <td>8.8291</td>\n",
              "      <td>9.3405</td>\n",
              "      <td>181.35</td>\n",
              "      <td>0.9741</td>\n",
              "      <td>30.09</td>\n",
              "      <td>30.14</td>\n",
              "    </tr>\n",
              "    <tr>\n",
              "      <th>2019-12-28</th>\n",
              "      <td>1.4278</td>\n",
              "      <td>0.8915</td>\n",
              "      <td>1.4846</td>\n",
              "      <td>0.7610</td>\n",
              "      <td>4.0152</td>\n",
              "      <td>1.3058</td>\n",
              "      <td>6.9864</td>\n",
              "      <td>7.7857</td>\n",
              "      <td>71.30</td>\n",
              "      <td>1155.75</td>\n",
              "      <td>18.863</td>\n",
              "      <td>14.056</td>\n",
              "      <td>1.3483</td>\n",
              "      <td>6.6589</td>\n",
              "      <td>108.85</td>\n",
              "      <td>4.1053</td>\n",
              "      <td>8.7839</td>\n",
              "      <td>9.3145</td>\n",
              "      <td>181.60</td>\n",
              "      <td>0.9677</td>\n",
              "      <td>30.04</td>\n",
              "      <td>29.94</td>\n",
              "    </tr>\n",
              "    <tr>\n",
              "      <th>2019-12-29</th>\n",
              "      <td>1.4278</td>\n",
              "      <td>0.8915</td>\n",
              "      <td>1.4846</td>\n",
              "      <td>0.7610</td>\n",
              "      <td>4.0152</td>\n",
              "      <td>1.3058</td>\n",
              "      <td>6.9864</td>\n",
              "      <td>7.7857</td>\n",
              "      <td>71.30</td>\n",
              "      <td>1155.75</td>\n",
              "      <td>18.863</td>\n",
              "      <td>14.056</td>\n",
              "      <td>1.3483</td>\n",
              "      <td>6.6589</td>\n",
              "      <td>108.85</td>\n",
              "      <td>4.1053</td>\n",
              "      <td>8.7839</td>\n",
              "      <td>9.3145</td>\n",
              "      <td>181.60</td>\n",
              "      <td>0.9677</td>\n",
              "      <td>30.04</td>\n",
              "      <td>29.94</td>\n",
              "    </tr>\n",
              "    <tr>\n",
              "      <th>2019-12-30</th>\n",
              "      <td>1.4278</td>\n",
              "      <td>0.8915</td>\n",
              "      <td>1.4846</td>\n",
              "      <td>0.7610</td>\n",
              "      <td>4.0152</td>\n",
              "      <td>1.3058</td>\n",
              "      <td>6.9864</td>\n",
              "      <td>7.7857</td>\n",
              "      <td>71.30</td>\n",
              "      <td>1155.75</td>\n",
              "      <td>18.863</td>\n",
              "      <td>14.056</td>\n",
              "      <td>1.3483</td>\n",
              "      <td>6.6589</td>\n",
              "      <td>108.85</td>\n",
              "      <td>4.1053</td>\n",
              "      <td>8.7839</td>\n",
              "      <td>9.3145</td>\n",
              "      <td>181.60</td>\n",
              "      <td>0.9677</td>\n",
              "      <td>30.04</td>\n",
              "      <td>29.94</td>\n",
              "    </tr>\n",
              "    <tr>\n",
              "      <th>2019-12-31</th>\n",
              "      <td>1.4225</td>\n",
              "      <td>0.8907</td>\n",
              "      <td>1.4826</td>\n",
              "      <td>0.7536</td>\n",
              "      <td>4.0190</td>\n",
              "      <td>1.2962</td>\n",
              "      <td>6.9618</td>\n",
              "      <td>7.7894</td>\n",
              "      <td>71.36</td>\n",
              "      <td>1155.46</td>\n",
              "      <td>18.860</td>\n",
              "      <td>13.973</td>\n",
              "      <td>1.3446</td>\n",
              "      <td>6.6554</td>\n",
              "      <td>108.67</td>\n",
              "      <td>4.0918</td>\n",
              "      <td>8.7823</td>\n",
              "      <td>9.3425</td>\n",
              "      <td>181.30</td>\n",
              "      <td>0.9677</td>\n",
              "      <td>29.91</td>\n",
              "      <td>29.75</td>\n",
              "    </tr>\n",
              "  </tbody>\n",
              "</table>\n",
              "</div>"
            ],
            "text/plain": [
              "            AUSTRALIA - AUSTRALIAN DOLLAR/US$  ...  THAILAND - BAHT/US$\n",
              "DATE                                           ...                     \n",
              "2019-12-27                             1.4331  ...                30.14\n",
              "2019-12-28                             1.4278  ...                29.94\n",
              "2019-12-29                             1.4278  ...                29.94\n",
              "2019-12-30                             1.4278  ...                29.94\n",
              "2019-12-31                             1.4225  ...                29.75\n",
              "\n",
              "[5 rows x 22 columns]"
            ]
          },
          "metadata": {
            "tags": []
          },
          "execution_count": 30
        }
      ]
    },
    {
      "cell_type": "code",
      "metadata": {
        "id": "yrju1GXBvYfa",
        "colab_type": "code",
        "colab": {}
      },
      "source": [
        "# to visualise after filling the na values\n",
        "toInspect = [\"INDIA - INDIAN RUPEE/US$\", \"CHINA - YUAN/US$\", \"EURO AREA - EURO/US$\"]"
      ],
      "execution_count": 0,
      "outputs": []
    },
    {
      "cell_type": "code",
      "metadata": {
        "id": "u9MdKPmSwN4G",
        "colab_type": "code",
        "colab": {}
      },
      "source": [
        "rows, cols = 3, 2"
      ],
      "execution_count": 0,
      "outputs": []
    },
    {
      "cell_type": "code",
      "metadata": {
        "id": "t9vflOOTwXhf",
        "colab_type": "code",
        "outputId": "1d8c0f51-d6a9-404b-fa52-553717e6b679",
        "colab": {
          "base_uri": "https://localhost:8080/",
          "height": 901
        }
      },
      "source": [
        "import numpy as np \n",
        "import pandas as pd\n",
        "import matplotlib.pyplot as plt\n",
        "import seaborn as sns\n",
        "fig, ax = plt.subplots(rows, cols, figsize=(20,rows*5))\n",
        "for row in range(rows):\n",
        "    sns.lineplot(data=xdf[[toInspect[row]]], ax=ax[row][0])\n",
        "    sns.lineplot(data=complete[[toInspect[row]]], ax=ax[row][1])"
      ],
      "execution_count": 0,
      "outputs": [
        {
          "output_type": "stream",
          "text": [
            "/usr/local/lib/python3.6/dist-packages/statsmodels/tools/_testing.py:19: FutureWarning: pandas.util.testing is deprecated. Use the functions in the public API at pandas.testing instead.\n",
            "  import pandas.util.testing as tm\n"
          ],
          "name": "stderr"
        },
        {
          "output_type": "display_data",
          "data": {
            "image/png": "[encoded data removed]",
            "text/plain": [
              "<Figure size 1440x1080 with 6 Axes>"
            ]
          },
          "metadata": {
            "tags": [],
            "needs_background": "light"
          }
        }
      ]
    },
    {
      "cell_type": "markdown",
      "metadata": {
        "id": "kaON0_4ZvVua",
        "colab_type": "text"
      },
      "source": [
        " Visualization to show that:even after interpolating the nan values property of data did't change"
      ]
    },
    {
      "cell_type": "code",
      "metadata": {
        "id": "a8KgPJt5xGYj",
        "colab_type": "code",
        "colab": {}
      },
      "source": [
        "# for creating dataframe of required number of column and rows:\n",
        "def For_one_Timeseries_data(column_,window):\n",
        "  X=[]\n",
        "  y=[]\n",
        "  n=len(column_)\n",
        "  for i in range(n):\n",
        "    end=i+window\n",
        "    if end < (n-1):\n",
        "      X.append(column_[i:end])\n",
        "      y.append(column_[end])\n",
        "    else:\n",
        "      break\n",
        "  return np.array(X), np.array(y)"
      ],
      "execution_count": 0,
      "outputs": []
    },
    {
      "cell_type": "code",
      "metadata": {
        "id": "B9im361bzkXu",
        "colab_type": "code",
        "outputId": "e521dc4c-aee3-4608-cdd8-8cc87e94d7ba",
        "colab": {
          "base_uri": "https://localhost:8080/",
          "height": 151
        }
      },
      "source": [
        "xdf.index"
      ],
      "execution_count": 0,
      "outputs": [
        {
          "output_type": "execute_result",
          "data": {
            "text/plain": [
              "DatetimeIndex(['2000-01-03', '2000-01-04', '2000-01-05', '2000-01-06',\n",
              "               '2000-01-07', '2000-01-10', '2000-01-11', '2000-01-12',\n",
              "               '2000-01-13', '2000-01-14',\n",
              "               ...\n",
              "               '2019-12-18', '2019-12-19', '2019-12-20', '2019-12-23',\n",
              "               '2019-12-24', '2019-12-25', '2019-12-26', '2019-12-27',\n",
              "               '2019-12-30', '2019-12-31'],\n",
              "              dtype='datetime64[ns]', name='DATE', length=5217, freq=None)"
            ]
          },
          "metadata": {
            "tags": []
          },
          "execution_count": 35
        }
      ]
    },
    {
      "cell_type": "markdown",
      "metadata": {
        "id": "lErJOusnyb7F",
        "colab_type": "text"
      },
      "source": [
        "ARIMA:   https://www.analyticsvidhya.com/blog/2016/02/time-series-forecasting-codes-python/\n"
      ]
    },
    {
      "cell_type": "code",
      "metadata": {
        "id": "r31vM34z6Rcz",
        "colab_type": "code",
        "outputId": "57aca527-8a3e-4406-a2c6-441c525bc4b1",
        "colab": {
          "base_uri": "https://localhost:8080/",
          "height": 396
        }
      },
      "source": [
        "xdf['DATE']=xdf.index\n",
        "xdf.head()"
      ],
      "execution_count": 0,
      "outputs": [
        {
          "output_type": "execute_result",
          "data": {
            "text/html": [
              "<div>\n",
              "<style scoped>\n",
              "    .dataframe tbody tr th:only-of-type {\n",
              "        vertical-align: middle;\n",
              "    }\n",
              "\n",
              "    .dataframe tbody tr th {\n",
              "        vertical-align: top;\n",
              "    }\n",
              "\n",
              "    .dataframe thead th {\n",
              "        text-align: right;\n",
              "    }\n",
              "</style>\n",
              "<table border=\"1\" class=\"dataframe\">\n",
              "  <thead>\n",
              "    <tr style=\"text-align: right;\">\n",
              "      <th></th>\n",
              "      <th>AUSTRALIA - AUSTRALIAN DOLLAR/US$</th>\n",
              "      <th>EURO AREA - EURO/US$</th>\n",
              "      <th>NEW ZEALAND - NEW ZELAND DOLLAR/US$</th>\n",
              "      <th>UNITED KINGDOM - UNITED KINGDOM POUND/US$</th>\n",
              "      <th>BRAZIL - REAL/US$</th>\n",
              "      <th>CANADA - CANADIAN DOLLAR/US$</th>\n",
              "      <th>CHINA - YUAN/US$</th>\n",
              "      <th>HONG KONG - HONG KONG DOLLAR/US$</th>\n",
              "      <th>INDIA - INDIAN RUPEE/US$</th>\n",
              "      <th>KOREA - WON/US$</th>\n",
              "      <th>MEXICO - MEXICAN PESO/US$</th>\n",
              "      <th>SOUTH AFRICA - RAND/US$</th>\n",
              "      <th>SINGAPORE - SINGAPORE DOLLAR/US$</th>\n",
              "      <th>DENMARK - DANISH KRONE/US$</th>\n",
              "      <th>JAPAN - YEN/US$</th>\n",
              "      <th>MALAYSIA - RINGGIT/US$</th>\n",
              "      <th>NORWAY - NORWEGIAN KRONE/US$</th>\n",
              "      <th>SWEDEN - KRONA/US$</th>\n",
              "      <th>SRI LANKA - SRI LANKAN RUPEE/US$</th>\n",
              "      <th>SWITZERLAND - FRANC/US$</th>\n",
              "      <th>TAIWAN - NEW TAIWAN DOLLAR/US$</th>\n",
              "      <th>THAILAND - BAHT/US$</th>\n",
              "      <th>DATE</th>\n",
              "    </tr>\n",
              "    <tr>\n",
              "      <th>DATE</th>\n",
              "      <th></th>\n",
              "      <th></th>\n",
              "      <th></th>\n",
              "      <th></th>\n",
              "      <th></th>\n",
              "      <th></th>\n",
              "      <th></th>\n",
              "      <th></th>\n",
              "      <th></th>\n",
              "      <th></th>\n",
              "      <th></th>\n",
              "      <th></th>\n",
              "      <th></th>\n",
              "      <th></th>\n",
              "      <th></th>\n",
              "      <th></th>\n",
              "      <th></th>\n",
              "      <th></th>\n",
              "      <th></th>\n",
              "      <th></th>\n",
              "      <th></th>\n",
              "      <th></th>\n",
              "      <th></th>\n",
              "    </tr>\n",
              "  </thead>\n",
              "  <tbody>\n",
              "    <tr>\n",
              "      <th>2000-01-03</th>\n",
              "      <td>1.5172</td>\n",
              "      <td>0.9847</td>\n",
              "      <td>1.9033</td>\n",
              "      <td>0.6146</td>\n",
              "      <td>1.8050</td>\n",
              "      <td>1.4465</td>\n",
              "      <td>8.2798</td>\n",
              "      <td>7.7765</td>\n",
              "      <td>43.55</td>\n",
              "      <td>1128.0</td>\n",
              "      <td>9.4015</td>\n",
              "      <td>6.126</td>\n",
              "      <td>1.6563</td>\n",
              "      <td>7.3290</td>\n",
              "      <td>101.70</td>\n",
              "      <td>3.8</td>\n",
              "      <td>7.964</td>\n",
              "      <td>8.4430</td>\n",
              "      <td>72.30</td>\n",
              "      <td>1.5808</td>\n",
              "      <td>31.38</td>\n",
              "      <td>36.97</td>\n",
              "      <td>2000-01-03</td>\n",
              "    </tr>\n",
              "    <tr>\n",
              "      <th>2000-01-04</th>\n",
              "      <td>1.5239</td>\n",
              "      <td>0.9700</td>\n",
              "      <td>1.9238</td>\n",
              "      <td>0.6109</td>\n",
              "      <td>1.8405</td>\n",
              "      <td>1.4518</td>\n",
              "      <td>8.2799</td>\n",
              "      <td>7.7775</td>\n",
              "      <td>43.55</td>\n",
              "      <td>1122.5</td>\n",
              "      <td>9.4570</td>\n",
              "      <td>6.085</td>\n",
              "      <td>1.6535</td>\n",
              "      <td>7.2180</td>\n",
              "      <td>103.09</td>\n",
              "      <td>3.8</td>\n",
              "      <td>7.934</td>\n",
              "      <td>8.3600</td>\n",
              "      <td>72.65</td>\n",
              "      <td>1.5565</td>\n",
              "      <td>30.60</td>\n",
              "      <td>37.13</td>\n",
              "      <td>2000-01-04</td>\n",
              "    </tr>\n",
              "    <tr>\n",
              "      <th>2000-01-05</th>\n",
              "      <td>1.5267</td>\n",
              "      <td>0.9676</td>\n",
              "      <td>1.9339</td>\n",
              "      <td>0.6092</td>\n",
              "      <td>1.8560</td>\n",
              "      <td>1.4518</td>\n",
              "      <td>8.2798</td>\n",
              "      <td>7.7780</td>\n",
              "      <td>43.55</td>\n",
              "      <td>1135.0</td>\n",
              "      <td>9.5350</td>\n",
              "      <td>6.070</td>\n",
              "      <td>1.6560</td>\n",
              "      <td>7.2080</td>\n",
              "      <td>103.77</td>\n",
              "      <td>3.8</td>\n",
              "      <td>7.935</td>\n",
              "      <td>8.3530</td>\n",
              "      <td>72.95</td>\n",
              "      <td>1.5526</td>\n",
              "      <td>30.80</td>\n",
              "      <td>37.10</td>\n",
              "      <td>2000-01-05</td>\n",
              "    </tr>\n",
              "    <tr>\n",
              "      <th>2000-01-06</th>\n",
              "      <td>1.5291</td>\n",
              "      <td>0.9686</td>\n",
              "      <td>1.9436</td>\n",
              "      <td>0.6070</td>\n",
              "      <td>1.8400</td>\n",
              "      <td>1.4571</td>\n",
              "      <td>8.2797</td>\n",
              "      <td>7.7785</td>\n",
              "      <td>43.55</td>\n",
              "      <td>1146.5</td>\n",
              "      <td>9.5670</td>\n",
              "      <td>6.080</td>\n",
              "      <td>1.6655</td>\n",
              "      <td>7.2125</td>\n",
              "      <td>105.19</td>\n",
              "      <td>3.8</td>\n",
              "      <td>7.940</td>\n",
              "      <td>8.3675</td>\n",
              "      <td>72.95</td>\n",
              "      <td>1.5540</td>\n",
              "      <td>31.75</td>\n",
              "      <td>37.62</td>\n",
              "      <td>2000-01-06</td>\n",
              "    </tr>\n",
              "    <tr>\n",
              "      <th>2000-01-07</th>\n",
              "      <td>1.5272</td>\n",
              "      <td>0.9714</td>\n",
              "      <td>1.9380</td>\n",
              "      <td>0.6104</td>\n",
              "      <td>1.8310</td>\n",
              "      <td>1.4505</td>\n",
              "      <td>8.2794</td>\n",
              "      <td>7.7783</td>\n",
              "      <td>43.55</td>\n",
              "      <td>1138.0</td>\n",
              "      <td>9.5200</td>\n",
              "      <td>6.057</td>\n",
              "      <td>1.6625</td>\n",
              "      <td>7.2285</td>\n",
              "      <td>105.17</td>\n",
              "      <td>3.8</td>\n",
              "      <td>7.966</td>\n",
              "      <td>8.4150</td>\n",
              "      <td>73.15</td>\n",
              "      <td>1.5623</td>\n",
              "      <td>30.85</td>\n",
              "      <td>37.30</td>\n",
              "      <td>2000-01-07</td>\n",
              "    </tr>\n",
              "  </tbody>\n",
              "</table>\n",
              "</div>"
            ],
            "text/plain": [
              "            AUSTRALIA - AUSTRALIAN DOLLAR/US$  ...       DATE\n",
              "DATE                                           ...           \n",
              "2000-01-03                             1.5172  ... 2000-01-03\n",
              "2000-01-04                             1.5239  ... 2000-01-04\n",
              "2000-01-05                             1.5267  ... 2000-01-05\n",
              "2000-01-06                             1.5291  ... 2000-01-06\n",
              "2000-01-07                             1.5272  ... 2000-01-07\n",
              "\n",
              "[5 rows x 23 columns]"
            ]
          },
          "metadata": {
            "tags": []
          },
          "execution_count": 36
        }
      ]
    },
    {
      "cell_type": "code",
      "metadata": {
        "id": "NpEHBdKuseFZ",
        "colab_type": "code",
        "outputId": "85b9c9c1-031c-4fe1-d037-f2b0bea2b27a",
        "colab": {
          "base_uri": "https://localhost:8080/",
          "height": 151
        }
      },
      "source": [
        "xdf.index"
      ],
      "execution_count": 0,
      "outputs": [
        {
          "output_type": "execute_result",
          "data": {
            "text/plain": [
              "DatetimeIndex(['2000-01-03', '2000-01-04', '2000-01-05', '2000-01-06',\n",
              "               '2000-01-07', '2000-01-10', '2000-01-11', '2000-01-12',\n",
              "               '2000-01-13', '2000-01-14',\n",
              "               ...\n",
              "               '2019-12-18', '2019-12-19', '2019-12-20', '2019-12-23',\n",
              "               '2019-12-24', '2019-12-25', '2019-12-26', '2019-12-27',\n",
              "               '2019-12-30', '2019-12-31'],\n",
              "              dtype='datetime64[ns]', name='DATE', length=5217, freq=None)"
            ]
          },
          "metadata": {
            "tags": []
          },
          "execution_count": 37
        }
      ]
    },
    {
      "cell_type": "code",
      "metadata": {
        "id": "8eCs-U_lyq9-",
        "colab_type": "code",
        "outputId": "103c03e8-75b8-4e54-d9ec-be2f4cdb0d6a",
        "colab": {
          "base_uri": "https://localhost:8080/",
          "height": 396
        }
      },
      "source": [
        "xdf.head()"
      ],
      "execution_count": 0,
      "outputs": [
        {
          "output_type": "execute_result",
          "data": {
            "text/html": [
              "<div>\n",
              "<style scoped>\n",
              "    .dataframe tbody tr th:only-of-type {\n",
              "        vertical-align: middle;\n",
              "    }\n",
              "\n",
              "    .dataframe tbody tr th {\n",
              "        vertical-align: top;\n",
              "    }\n",
              "\n",
              "    .dataframe thead th {\n",
              "        text-align: right;\n",
              "    }\n",
              "</style>\n",
              "<table border=\"1\" class=\"dataframe\">\n",
              "  <thead>\n",
              "    <tr style=\"text-align: right;\">\n",
              "      <th></th>\n",
              "      <th>AUSTRALIA - AUSTRALIAN DOLLAR/US$</th>\n",
              "      <th>EURO AREA - EURO/US$</th>\n",
              "      <th>NEW ZEALAND - NEW ZELAND DOLLAR/US$</th>\n",
              "      <th>UNITED KINGDOM - UNITED KINGDOM POUND/US$</th>\n",
              "      <th>BRAZIL - REAL/US$</th>\n",
              "      <th>CANADA - CANADIAN DOLLAR/US$</th>\n",
              "      <th>CHINA - YUAN/US$</th>\n",
              "      <th>HONG KONG - HONG KONG DOLLAR/US$</th>\n",
              "      <th>INDIA - INDIAN RUPEE/US$</th>\n",
              "      <th>KOREA - WON/US$</th>\n",
              "      <th>MEXICO - MEXICAN PESO/US$</th>\n",
              "      <th>SOUTH AFRICA - RAND/US$</th>\n",
              "      <th>SINGAPORE - SINGAPORE DOLLAR/US$</th>\n",
              "      <th>DENMARK - DANISH KRONE/US$</th>\n",
              "      <th>JAPAN - YEN/US$</th>\n",
              "      <th>MALAYSIA - RINGGIT/US$</th>\n",
              "      <th>NORWAY - NORWEGIAN KRONE/US$</th>\n",
              "      <th>SWEDEN - KRONA/US$</th>\n",
              "      <th>SRI LANKA - SRI LANKAN RUPEE/US$</th>\n",
              "      <th>SWITZERLAND - FRANC/US$</th>\n",
              "      <th>TAIWAN - NEW TAIWAN DOLLAR/US$</th>\n",
              "      <th>THAILAND - BAHT/US$</th>\n",
              "      <th>DATE</th>\n",
              "    </tr>\n",
              "    <tr>\n",
              "      <th>DATE</th>\n",
              "      <th></th>\n",
              "      <th></th>\n",
              "      <th></th>\n",
              "      <th></th>\n",
              "      <th></th>\n",
              "      <th></th>\n",
              "      <th></th>\n",
              "      <th></th>\n",
              "      <th></th>\n",
              "      <th></th>\n",
              "      <th></th>\n",
              "      <th></th>\n",
              "      <th></th>\n",
              "      <th></th>\n",
              "      <th></th>\n",
              "      <th></th>\n",
              "      <th></th>\n",
              "      <th></th>\n",
              "      <th></th>\n",
              "      <th></th>\n",
              "      <th></th>\n",
              "      <th></th>\n",
              "      <th></th>\n",
              "    </tr>\n",
              "  </thead>\n",
              "  <tbody>\n",
              "    <tr>\n",
              "      <th>2000-01-03</th>\n",
              "      <td>1.5172</td>\n",
              "      <td>0.9847</td>\n",
              "      <td>1.9033</td>\n",
              "      <td>0.6146</td>\n",
              "      <td>1.8050</td>\n",
              "      <td>1.4465</td>\n",
              "      <td>8.2798</td>\n",
              "      <td>7.7765</td>\n",
              "      <td>43.55</td>\n",
              "      <td>1128.0</td>\n",
              "      <td>9.4015</td>\n",
              "      <td>6.126</td>\n",
              "      <td>1.6563</td>\n",
              "      <td>7.3290</td>\n",
              "      <td>101.70</td>\n",
              "      <td>3.8</td>\n",
              "      <td>7.964</td>\n",
              "      <td>8.4430</td>\n",
              "      <td>72.30</td>\n",
              "      <td>1.5808</td>\n",
              "      <td>31.38</td>\n",
              "      <td>36.97</td>\n",
              "      <td>2000-01-03</td>\n",
              "    </tr>\n",
              "    <tr>\n",
              "      <th>2000-01-04</th>\n",
              "      <td>1.5239</td>\n",
              "      <td>0.9700</td>\n",
              "      <td>1.9238</td>\n",
              "      <td>0.6109</td>\n",
              "      <td>1.8405</td>\n",
              "      <td>1.4518</td>\n",
              "      <td>8.2799</td>\n",
              "      <td>7.7775</td>\n",
              "      <td>43.55</td>\n",
              "      <td>1122.5</td>\n",
              "      <td>9.4570</td>\n",
              "      <td>6.085</td>\n",
              "      <td>1.6535</td>\n",
              "      <td>7.2180</td>\n",
              "      <td>103.09</td>\n",
              "      <td>3.8</td>\n",
              "      <td>7.934</td>\n",
              "      <td>8.3600</td>\n",
              "      <td>72.65</td>\n",
              "      <td>1.5565</td>\n",
              "      <td>30.60</td>\n",
              "      <td>37.13</td>\n",
              "      <td>2000-01-04</td>\n",
              "    </tr>\n",
              "    <tr>\n",
              "      <th>2000-01-05</th>\n",
              "      <td>1.5267</td>\n",
              "      <td>0.9676</td>\n",
              "      <td>1.9339</td>\n",
              "      <td>0.6092</td>\n",
              "      <td>1.8560</td>\n",
              "      <td>1.4518</td>\n",
              "      <td>8.2798</td>\n",
              "      <td>7.7780</td>\n",
              "      <td>43.55</td>\n",
              "      <td>1135.0</td>\n",
              "      <td>9.5350</td>\n",
              "      <td>6.070</td>\n",
              "      <td>1.6560</td>\n",
              "      <td>7.2080</td>\n",
              "      <td>103.77</td>\n",
              "      <td>3.8</td>\n",
              "      <td>7.935</td>\n",
              "      <td>8.3530</td>\n",
              "      <td>72.95</td>\n",
              "      <td>1.5526</td>\n",
              "      <td>30.80</td>\n",
              "      <td>37.10</td>\n",
              "      <td>2000-01-05</td>\n",
              "    </tr>\n",
              "    <tr>\n",
              "      <th>2000-01-06</th>\n",
              "      <td>1.5291</td>\n",
              "      <td>0.9686</td>\n",
              "      <td>1.9436</td>\n",
              "      <td>0.6070</td>\n",
              "      <td>1.8400</td>\n",
              "      <td>1.4571</td>\n",
              "      <td>8.2797</td>\n",
              "      <td>7.7785</td>\n",
              "      <td>43.55</td>\n",
              "      <td>1146.5</td>\n",
              "      <td>9.5670</td>\n",
              "      <td>6.080</td>\n",
              "      <td>1.6655</td>\n",
              "      <td>7.2125</td>\n",
              "      <td>105.19</td>\n",
              "      <td>3.8</td>\n",
              "      <td>7.940</td>\n",
              "      <td>8.3675</td>\n",
              "      <td>72.95</td>\n",
              "      <td>1.5540</td>\n",
              "      <td>31.75</td>\n",
              "      <td>37.62</td>\n",
              "      <td>2000-01-06</td>\n",
              "    </tr>\n",
              "    <tr>\n",
              "      <th>2000-01-07</th>\n",
              "      <td>1.5272</td>\n",
              "      <td>0.9714</td>\n",
              "      <td>1.9380</td>\n",
              "      <td>0.6104</td>\n",
              "      <td>1.8310</td>\n",
              "      <td>1.4505</td>\n",
              "      <td>8.2794</td>\n",
              "      <td>7.7783</td>\n",
              "      <td>43.55</td>\n",
              "      <td>1138.0</td>\n",
              "      <td>9.5200</td>\n",
              "      <td>6.057</td>\n",
              "      <td>1.6625</td>\n",
              "      <td>7.2285</td>\n",
              "      <td>105.17</td>\n",
              "      <td>3.8</td>\n",
              "      <td>7.966</td>\n",
              "      <td>8.4150</td>\n",
              "      <td>73.15</td>\n",
              "      <td>1.5623</td>\n",
              "      <td>30.85</td>\n",
              "      <td>37.30</td>\n",
              "      <td>2000-01-07</td>\n",
              "    </tr>\n",
              "  </tbody>\n",
              "</table>\n",
              "</div>"
            ],
            "text/plain": [
              "            AUSTRALIA - AUSTRALIAN DOLLAR/US$  ...       DATE\n",
              "DATE                                           ...           \n",
              "2000-01-03                             1.5172  ... 2000-01-03\n",
              "2000-01-04                             1.5239  ... 2000-01-04\n",
              "2000-01-05                             1.5267  ... 2000-01-05\n",
              "2000-01-06                             1.5291  ... 2000-01-06\n",
              "2000-01-07                             1.5272  ... 2000-01-07\n",
              "\n",
              "[5 rows x 23 columns]"
            ]
          },
          "metadata": {
            "tags": []
          },
          "execution_count": 38
        }
      ]
    },
    {
      "cell_type": "code",
      "metadata": {
        "id": "rEWregK0ytLM",
        "colab_type": "code",
        "colab": {}
      },
      "source": [
        "df=pd.DataFrame(xdf.DATE)"
      ],
      "execution_count": 0,
      "outputs": []
    },
    {
      "cell_type": "code",
      "metadata": {
        "id": "mYKICx_mXReV",
        "colab_type": "code",
        "colab": {}
      },
      "source": [
        "df=df.drop(['DATE'],axis=1)"
      ],
      "execution_count": 0,
      "outputs": []
    },
    {
      "cell_type": "code",
      "metadata": {
        "id": "lPU900PRXvgY",
        "colab_type": "code",
        "outputId": "2bb6bc88-7368-4df5-a145-e9349aca0cf8",
        "colab": {
          "base_uri": "https://localhost:8080/",
          "height": 415
        }
      },
      "source": [
        "df"
      ],
      "execution_count": 0,
      "outputs": [
        {
          "output_type": "execute_result",
          "data": {
            "text/html": [
              "<div>\n",
              "<style scoped>\n",
              "    .dataframe tbody tr th:only-of-type {\n",
              "        vertical-align: middle;\n",
              "    }\n",
              "\n",
              "    .dataframe tbody tr th {\n",
              "        vertical-align: top;\n",
              "    }\n",
              "\n",
              "    .dataframe thead th {\n",
              "        text-align: right;\n",
              "    }\n",
              "</style>\n",
              "<table border=\"1\" class=\"dataframe\">\n",
              "  <thead>\n",
              "    <tr style=\"text-align: right;\">\n",
              "      <th></th>\n",
              "    </tr>\n",
              "    <tr>\n",
              "      <th>DATE</th>\n",
              "    </tr>\n",
              "  </thead>\n",
              "  <tbody>\n",
              "    <tr>\n",
              "      <th>2000-01-03</th>\n",
              "    </tr>\n",
              "    <tr>\n",
              "      <th>2000-01-04</th>\n",
              "    </tr>\n",
              "    <tr>\n",
              "      <th>2000-01-05</th>\n",
              "    </tr>\n",
              "    <tr>\n",
              "      <th>2000-01-06</th>\n",
              "    </tr>\n",
              "    <tr>\n",
              "      <th>2000-01-07</th>\n",
              "    </tr>\n",
              "    <tr>\n",
              "      <th>...</th>\n",
              "    </tr>\n",
              "    <tr>\n",
              "      <th>2019-12-25</th>\n",
              "    </tr>\n",
              "    <tr>\n",
              "      <th>2019-12-26</th>\n",
              "    </tr>\n",
              "    <tr>\n",
              "      <th>2019-12-27</th>\n",
              "    </tr>\n",
              "    <tr>\n",
              "      <th>2019-12-30</th>\n",
              "    </tr>\n",
              "    <tr>\n",
              "      <th>2019-12-31</th>\n",
              "    </tr>\n",
              "  </tbody>\n",
              "</table>\n",
              "<p>5217 rows × 0 columns</p>\n",
              "</div>"
            ],
            "text/plain": [
              "Empty DataFrame\n",
              "Columns: []\n",
              "Index: [2000-01-03 00:00:00, 2000-01-04 00:00:00, 2000-01-05 00:00:00, 2000-01-06 00:00:00, 2000-01-07 00:00:00, 2000-01-10 00:00:00, 2000-01-11 00:00:00, 2000-01-12 00:00:00, 2000-01-13 00:00:00, 2000-01-14 00:00:00, 2000-01-17 00:00:00, 2000-01-18 00:00:00, 2000-01-19 00:00:00, 2000-01-20 00:00:00, 2000-01-21 00:00:00, 2000-01-24 00:00:00, 2000-01-25 00:00:00, 2000-01-26 00:00:00, 2000-01-27 00:00:00, 2000-01-28 00:00:00, 2000-01-31 00:00:00, 2000-02-01 00:00:00, 2000-02-02 00:00:00, 2000-02-03 00:00:00, 2000-02-04 00:00:00, 2000-02-07 00:00:00, 2000-02-08 00:00:00, 2000-02-09 00:00:00, 2000-02-10 00:00:00, 2000-02-11 00:00:00, 2000-02-14 00:00:00, 2000-02-15 00:00:00, 2000-02-16 00:00:00, 2000-02-17 00:00:00, 2000-02-18 00:00:00, 2000-02-21 00:00:00, 2000-02-22 00:00:00, 2000-02-23 00:00:00, 2000-02-24 00:00:00, 2000-02-25 00:00:00, 2000-02-28 00:00:00, 2000-02-29 00:00:00, 2000-03-01 00:00:00, 2000-03-02 00:00:00, 2000-03-03 00:00:00, 2000-03-06 00:00:00, 2000-03-07 00:00:00, 2000-03-08 00:00:00, 2000-03-09 00:00:00, 2000-03-10 00:00:00, 2000-03-13 00:00:00, 2000-03-14 00:00:00, 2000-03-15 00:00:00, 2000-03-16 00:00:00, 2000-03-17 00:00:00, 2000-03-20 00:00:00, 2000-03-21 00:00:00, 2000-03-22 00:00:00, 2000-03-23 00:00:00, 2000-03-24 00:00:00, 2000-03-27 00:00:00, 2000-03-28 00:00:00, 2000-03-29 00:00:00, 2000-03-30 00:00:00, 2000-03-31 00:00:00, 2000-04-03 00:00:00, 2000-04-04 00:00:00, 2000-04-05 00:00:00, 2000-04-06 00:00:00, 2000-04-07 00:00:00, 2000-04-10 00:00:00, 2000-04-11 00:00:00, 2000-04-12 00:00:00, 2000-04-13 00:00:00, 2000-04-14 00:00:00, 2000-04-17 00:00:00, 2000-04-18 00:00:00, 2000-04-19 00:00:00, 2000-04-20 00:00:00, 2000-04-21 00:00:00, 2000-04-24 00:00:00, 2000-04-25 00:00:00, 2000-04-26 00:00:00, 2000-04-27 00:00:00, 2000-04-28 00:00:00, 2000-05-01 00:00:00, 2000-05-02 00:00:00, 2000-05-03 00:00:00, 2000-05-04 00:00:00, 2000-05-05 00:00:00, 2000-05-08 00:00:00, 2000-05-09 00:00:00, 2000-05-10 00:00:00, 2000-05-11 00:00:00, 2000-05-12 00:00:00, 2000-05-15 00:00:00, 2000-05-16 00:00:00, 2000-05-17 00:00:00, 2000-05-18 00:00:00, 2000-05-19 00:00:00, ...]\n",
              "\n",
              "[5217 rows x 0 columns]"
            ]
          },
          "metadata": {
            "tags": []
          },
          "execution_count": 41
        }
      ]
    },
    {
      "cell_type": "code",
      "metadata": {
        "id": "vvkhODHYXaiv",
        "colab_type": "code",
        "colab": {}
      },
      "source": [
        "df=df.astype(np.int64)"
      ],
      "execution_count": 0,
      "outputs": []
    },
    {
      "cell_type": "code",
      "metadata": {
        "id": "zZtp2fpLXf3g",
        "colab_type": "code",
        "outputId": "19b86708-e306-4ba3-c2dd-e101696f5ae5",
        "colab": {
          "base_uri": "https://localhost:8080/",
          "height": 34
        }
      },
      "source": [
        "type(df)"
      ],
      "execution_count": 0,
      "outputs": [
        {
          "output_type": "execute_result",
          "data": {
            "text/plain": [
              "pandas.core.frame.DataFrame"
            ]
          },
          "metadata": {
            "tags": []
          },
          "execution_count": 43
        }
      ]
    },
    {
      "cell_type": "code",
      "metadata": {
        "id": "rUtB3qRwXq4w",
        "colab_type": "code",
        "outputId": "d4e77998-9397-41c4-854e-5db42fd331a7",
        "colab": {
          "base_uri": "https://localhost:8080/",
          "height": 415
        }
      },
      "source": [
        "df"
      ],
      "execution_count": 0,
      "outputs": [
        {
          "output_type": "execute_result",
          "data": {
            "text/html": [
              "<div>\n",
              "<style scoped>\n",
              "    .dataframe tbody tr th:only-of-type {\n",
              "        vertical-align: middle;\n",
              "    }\n",
              "\n",
              "    .dataframe tbody tr th {\n",
              "        vertical-align: top;\n",
              "    }\n",
              "\n",
              "    .dataframe thead th {\n",
              "        text-align: right;\n",
              "    }\n",
              "</style>\n",
              "<table border=\"1\" class=\"dataframe\">\n",
              "  <thead>\n",
              "    <tr style=\"text-align: right;\">\n",
              "      <th></th>\n",
              "    </tr>\n",
              "    <tr>\n",
              "      <th>DATE</th>\n",
              "    </tr>\n",
              "  </thead>\n",
              "  <tbody>\n",
              "    <tr>\n",
              "      <th>2000-01-03</th>\n",
              "    </tr>\n",
              "    <tr>\n",
              "      <th>2000-01-04</th>\n",
              "    </tr>\n",
              "    <tr>\n",
              "      <th>2000-01-05</th>\n",
              "    </tr>\n",
              "    <tr>\n",
              "      <th>2000-01-06</th>\n",
              "    </tr>\n",
              "    <tr>\n",
              "      <th>2000-01-07</th>\n",
              "    </tr>\n",
              "    <tr>\n",
              "      <th>...</th>\n",
              "    </tr>\n",
              "    <tr>\n",
              "      <th>2019-12-25</th>\n",
              "    </tr>\n",
              "    <tr>\n",
              "      <th>2019-12-26</th>\n",
              "    </tr>\n",
              "    <tr>\n",
              "      <th>2019-12-27</th>\n",
              "    </tr>\n",
              "    <tr>\n",
              "      <th>2019-12-30</th>\n",
              "    </tr>\n",
              "    <tr>\n",
              "      <th>2019-12-31</th>\n",
              "    </tr>\n",
              "  </tbody>\n",
              "</table>\n",
              "<p>5217 rows × 0 columns</p>\n",
              "</div>"
            ],
            "text/plain": [
              "Empty DataFrame\n",
              "Columns: []\n",
              "Index: [2000-01-03 00:00:00, 2000-01-04 00:00:00, 2000-01-05 00:00:00, 2000-01-06 00:00:00, 2000-01-07 00:00:00, 2000-01-10 00:00:00, 2000-01-11 00:00:00, 2000-01-12 00:00:00, 2000-01-13 00:00:00, 2000-01-14 00:00:00, 2000-01-17 00:00:00, 2000-01-18 00:00:00, 2000-01-19 00:00:00, 2000-01-20 00:00:00, 2000-01-21 00:00:00, 2000-01-24 00:00:00, 2000-01-25 00:00:00, 2000-01-26 00:00:00, 2000-01-27 00:00:00, 2000-01-28 00:00:00, 2000-01-31 00:00:00, 2000-02-01 00:00:00, 2000-02-02 00:00:00, 2000-02-03 00:00:00, 2000-02-04 00:00:00, 2000-02-07 00:00:00, 2000-02-08 00:00:00, 2000-02-09 00:00:00, 2000-02-10 00:00:00, 2000-02-11 00:00:00, 2000-02-14 00:00:00, 2000-02-15 00:00:00, 2000-02-16 00:00:00, 2000-02-17 00:00:00, 2000-02-18 00:00:00, 2000-02-21 00:00:00, 2000-02-22 00:00:00, 2000-02-23 00:00:00, 2000-02-24 00:00:00, 2000-02-25 00:00:00, 2000-02-28 00:00:00, 2000-02-29 00:00:00, 2000-03-01 00:00:00, 2000-03-02 00:00:00, 2000-03-03 00:00:00, 2000-03-06 00:00:00, 2000-03-07 00:00:00, 2000-03-08 00:00:00, 2000-03-09 00:00:00, 2000-03-10 00:00:00, 2000-03-13 00:00:00, 2000-03-14 00:00:00, 2000-03-15 00:00:00, 2000-03-16 00:00:00, 2000-03-17 00:00:00, 2000-03-20 00:00:00, 2000-03-21 00:00:00, 2000-03-22 00:00:00, 2000-03-23 00:00:00, 2000-03-24 00:00:00, 2000-03-27 00:00:00, 2000-03-28 00:00:00, 2000-03-29 00:00:00, 2000-03-30 00:00:00, 2000-03-31 00:00:00, 2000-04-03 00:00:00, 2000-04-04 00:00:00, 2000-04-05 00:00:00, 2000-04-06 00:00:00, 2000-04-07 00:00:00, 2000-04-10 00:00:00, 2000-04-11 00:00:00, 2000-04-12 00:00:00, 2000-04-13 00:00:00, 2000-04-14 00:00:00, 2000-04-17 00:00:00, 2000-04-18 00:00:00, 2000-04-19 00:00:00, 2000-04-20 00:00:00, 2000-04-21 00:00:00, 2000-04-24 00:00:00, 2000-04-25 00:00:00, 2000-04-26 00:00:00, 2000-04-27 00:00:00, 2000-04-28 00:00:00, 2000-05-01 00:00:00, 2000-05-02 00:00:00, 2000-05-03 00:00:00, 2000-05-04 00:00:00, 2000-05-05 00:00:00, 2000-05-08 00:00:00, 2000-05-09 00:00:00, 2000-05-10 00:00:00, 2000-05-11 00:00:00, 2000-05-12 00:00:00, 2000-05-15 00:00:00, 2000-05-16 00:00:00, 2000-05-17 00:00:00, 2000-05-18 00:00:00, 2000-05-19 00:00:00, ...]\n",
              "\n",
              "[5217 rows x 0 columns]"
            ]
          },
          "metadata": {
            "tags": []
          },
          "execution_count": 44
        }
      ]
    },
    {
      "cell_type": "code",
      "metadata": {
        "id": "xxu7db5BzbiF",
        "colab_type": "code",
        "colab": {}
      },
      "source": [
        "df['INDIA - INDIAN RUPEE/US$']=xdf['INDIA - INDIAN RUPEE/US$']"
      ],
      "execution_count": 0,
      "outputs": []
    },
    {
      "cell_type": "code",
      "metadata": {
        "id": "fCRI7Vxnzh-Z",
        "colab_type": "code",
        "outputId": "634c291c-8094-4d68-a588-32fc6fe5e3c0",
        "colab": {
          "base_uri": "https://localhost:8080/",
          "height": 225
        }
      },
      "source": [
        "df.tail()"
      ],
      "execution_count": 0,
      "outputs": [
        {
          "output_type": "execute_result",
          "data": {
            "text/html": [
              "<div>\n",
              "<style scoped>\n",
              "    .dataframe tbody tr th:only-of-type {\n",
              "        vertical-align: middle;\n",
              "    }\n",
              "\n",
              "    .dataframe tbody tr th {\n",
              "        vertical-align: top;\n",
              "    }\n",
              "\n",
              "    .dataframe thead th {\n",
              "        text-align: right;\n",
              "    }\n",
              "</style>\n",
              "<table border=\"1\" class=\"dataframe\">\n",
              "  <thead>\n",
              "    <tr style=\"text-align: right;\">\n",
              "      <th></th>\n",
              "      <th>INDIA - INDIAN RUPEE/US$</th>\n",
              "    </tr>\n",
              "    <tr>\n",
              "      <th>DATE</th>\n",
              "      <th></th>\n",
              "    </tr>\n",
              "  </thead>\n",
              "  <tbody>\n",
              "    <tr>\n",
              "      <th>2019-12-25</th>\n",
              "      <td>71.28</td>\n",
              "    </tr>\n",
              "    <tr>\n",
              "      <th>2019-12-26</th>\n",
              "      <td>71.28</td>\n",
              "    </tr>\n",
              "    <tr>\n",
              "      <th>2019-12-27</th>\n",
              "      <td>71.45</td>\n",
              "    </tr>\n",
              "    <tr>\n",
              "      <th>2019-12-30</th>\n",
              "      <td>71.30</td>\n",
              "    </tr>\n",
              "    <tr>\n",
              "      <th>2019-12-31</th>\n",
              "      <td>71.36</td>\n",
              "    </tr>\n",
              "  </tbody>\n",
              "</table>\n",
              "</div>"
            ],
            "text/plain": [
              "            INDIA - INDIAN RUPEE/US$\n",
              "DATE                                \n",
              "2019-12-25                     71.28\n",
              "2019-12-26                     71.28\n",
              "2019-12-27                     71.45\n",
              "2019-12-30                     71.30\n",
              "2019-12-31                     71.36"
            ]
          },
          "metadata": {
            "tags": []
          },
          "execution_count": 46
        }
      ]
    },
    {
      "cell_type": "code",
      "metadata": {
        "id": "3p2rIuSDWDT5",
        "colab_type": "code",
        "outputId": "e002c3be-f88e-4599-a163-195467f92dbb",
        "colab": {
          "base_uri": "https://localhost:8080/",
          "height": 34
        }
      },
      "source": [
        "type(df['INDIA - INDIAN RUPEE/US$'][0])"
      ],
      "execution_count": 0,
      "outputs": [
        {
          "output_type": "execute_result",
          "data": {
            "text/plain": [
              "numpy.float64"
            ]
          },
          "metadata": {
            "tags": []
          },
          "execution_count": 47
        }
      ]
    },
    {
      "cell_type": "code",
      "metadata": {
        "id": "SjZJVsKqxyKD",
        "colab_type": "code",
        "colab": {}
      },
      "source": [
        "import matplotlib.pyplot as plt"
      ],
      "execution_count": 0,
      "outputs": []
    },
    {
      "cell_type": "code",
      "metadata": {
        "id": "KkjrbBFY3_fZ",
        "colab_type": "code",
        "outputId": "96f2e2b5-19ec-497f-d5e8-1207ad4fbc8b",
        "colab": {
          "base_uri": "https://localhost:8080/",
          "height": 282
        }
      },
      "source": [
        "plt.plot(df[:365])"
      ],
      "execution_count": 0,
      "outputs": [
        {
          "output_type": "execute_result",
          "data": {
            "text/plain": [
              "[<matplotlib.lines.Line2D at 0x7fc8d7614e80>]"
            ]
          },
          "metadata": {
            "tags": []
          },
          "execution_count": 49
        },
        {
          "output_type": "display_data",
          "data": {
            "image/png": "[encoded data removed]",
            "text/plain": [
              "<Figure size 432x288 with 1 Axes>"
            ]
          },
          "metadata": {
            "tags": [],
            "needs_background": "light"
          }
        }
      ]
    },
    {
      "cell_type": "code",
      "metadata": {
        "id": "vJtwPPC4ZdQF",
        "colab_type": "code",
        "outputId": "4e88ed67-da2f-44a5-cc35-c086411e0afe",
        "colab": {
          "base_uri": "https://localhost:8080/",
          "height": 282
        }
      },
      "source": [
        "plt.plot(df[:30])"
      ],
      "execution_count": 0,
      "outputs": [
        {
          "output_type": "execute_result",
          "data": {
            "text/plain": [
              "[<matplotlib.lines.Line2D at 0x7fc8d593e860>]"
            ]
          },
          "metadata": {
            "tags": []
          },
          "execution_count": 50
        },
        {
          "output_type": "display_data",
          "data": {
            "image/png": "[encoded data removed]",
            "text/plain": [
              "<Figure size 432x288 with 1 Axes>"
            ]
          },
          "metadata": {
            "tags": [],
            "needs_background": "light"
          }
        }
      ]
    },
    {
      "cell_type": "code",
      "metadata": {
        "id": "Iw3oGeJUZjWs",
        "colab_type": "code",
        "outputId": "71c09432-bfc9-48e9-fa8d-5947a53cab49",
        "colab": {
          "base_uri": "https://localhost:8080/",
          "height": 282
        }
      },
      "source": [
        "plt.plot(df[:180])\n",
        "# It is clearly evident that there is an overall increasing trend in the data along with some seasonal variations. However, it might not always be possible to make such visual inferences (we’ll see such cases later)"
      ],
      "execution_count": 0,
      "outputs": [
        {
          "output_type": "execute_result",
          "data": {
            "text/plain": [
              "[<matplotlib.lines.Line2D at 0x7fc8e2887320>]"
            ]
          },
          "metadata": {
            "tags": []
          },
          "execution_count": 51
        },
        {
          "output_type": "display_data",
          "data": {
            "image/png": "[encoded data removed]",
            "text/plain": [
              "<Figure size 432x288 with 1 Axes>"
            ]
          },
          "metadata": {
            "tags": [],
            "needs_background": "light"
          }
        }
      ]
    },
    {
      "cell_type": "code",
      "metadata": {
        "id": "fiF9r7Si0B-X",
        "colab_type": "code",
        "outputId": "633fd462-ab4e-4a4f-8064-4991cbbf5f56",
        "colab": {
          "base_uri": "https://localhost:8080/",
          "height": 431
        }
      },
      "source": [
        "df[:'2000-05-01']"
      ],
      "execution_count": 0,
      "outputs": [
        {
          "output_type": "execute_result",
          "data": {
            "text/html": [
              "<div>\n",
              "<style scoped>\n",
              "    .dataframe tbody tr th:only-of-type {\n",
              "        vertical-align: middle;\n",
              "    }\n",
              "\n",
              "    .dataframe tbody tr th {\n",
              "        vertical-align: top;\n",
              "    }\n",
              "\n",
              "    .dataframe thead th {\n",
              "        text-align: right;\n",
              "    }\n",
              "</style>\n",
              "<table border=\"1\" class=\"dataframe\">\n",
              "  <thead>\n",
              "    <tr style=\"text-align: right;\">\n",
              "      <th></th>\n",
              "      <th>INDIA - INDIAN RUPEE/US$</th>\n",
              "    </tr>\n",
              "    <tr>\n",
              "      <th>DATE</th>\n",
              "      <th></th>\n",
              "    </tr>\n",
              "  </thead>\n",
              "  <tbody>\n",
              "    <tr>\n",
              "      <th>2000-01-03</th>\n",
              "      <td>43.55</td>\n",
              "    </tr>\n",
              "    <tr>\n",
              "      <th>2000-01-04</th>\n",
              "      <td>43.55</td>\n",
              "    </tr>\n",
              "    <tr>\n",
              "      <th>2000-01-05</th>\n",
              "      <td>43.55</td>\n",
              "    </tr>\n",
              "    <tr>\n",
              "      <th>2000-01-06</th>\n",
              "      <td>43.55</td>\n",
              "    </tr>\n",
              "    <tr>\n",
              "      <th>2000-01-07</th>\n",
              "      <td>43.55</td>\n",
              "    </tr>\n",
              "    <tr>\n",
              "      <th>...</th>\n",
              "      <td>...</td>\n",
              "    </tr>\n",
              "    <tr>\n",
              "      <th>2000-04-25</th>\n",
              "      <td>43.70</td>\n",
              "    </tr>\n",
              "    <tr>\n",
              "      <th>2000-04-26</th>\n",
              "      <td>43.70</td>\n",
              "    </tr>\n",
              "    <tr>\n",
              "      <th>2000-04-27</th>\n",
              "      <td>43.70</td>\n",
              "    </tr>\n",
              "    <tr>\n",
              "      <th>2000-04-28</th>\n",
              "      <td>43.70</td>\n",
              "    </tr>\n",
              "    <tr>\n",
              "      <th>2000-05-01</th>\n",
              "      <td>43.67</td>\n",
              "    </tr>\n",
              "  </tbody>\n",
              "</table>\n",
              "<p>86 rows × 1 columns</p>\n",
              "</div>"
            ],
            "text/plain": [
              "            INDIA - INDIAN RUPEE/US$\n",
              "DATE                                \n",
              "2000-01-03                     43.55\n",
              "2000-01-04                     43.55\n",
              "2000-01-05                     43.55\n",
              "2000-01-06                     43.55\n",
              "2000-01-07                     43.55\n",
              "...                              ...\n",
              "2000-04-25                     43.70\n",
              "2000-04-26                     43.70\n",
              "2000-04-27                     43.70\n",
              "2000-04-28                     43.70\n",
              "2000-05-01                     43.67\n",
              "\n",
              "[86 rows x 1 columns]"
            ]
          },
          "metadata": {
            "tags": []
          },
          "execution_count": 52
        }
      ]
    },
    {
      "cell_type": "code",
      "metadata": {
        "id": "klrGQm3MIgkE",
        "colab_type": "code",
        "colab": {}
      },
      "source": [
        "from statsmodels.tsa.stattools import adfuller\n",
        "def test_stationarity(timeseries):\n",
        "    \n",
        "    #Determing rolling statistics\n",
        "    rolmean = timeseries.rolling(window=180).mean()\n",
        "    rolstd = timeseries.rolling(window=180).std()\n",
        "\n",
        "    #Plot rolling statistics:\n",
        "    orig = plt.plot(timeseries, color='blue',label='Original')\n",
        "    mean = plt.plot(rolmean, color='red', label='Rolling Mean')\n",
        "    std = plt.plot(rolstd, color='black', label = 'Rolling Std')\n",
        "    plt.legend(loc='best')\n",
        "    plt.title('Rolling Mean & Standard Deviation')\n",
        "    plt.show(block=False)\n",
        "    \n",
        "    #Perform Dickey-Fuller test:\n",
        "    print('Results of Dickey-Fuller Test:')\n",
        "    dftest = adfuller(timeseries, autolag='AIC')\n",
        "    dfoutput = pd.Series(dftest[0:4], index=['Test Statistic','p-value','#Lags Used','Number of Observations Used'])\n",
        "    for key,value in dftest[4].items():\n",
        "        dfoutput['Critical Value (%s)'%key] = value\n",
        "    print(dfoutput)"
      ],
      "execution_count": 0,
      "outputs": []
    },
    {
      "cell_type": "code",
      "metadata": {
        "id": "HiEaITQSI6C_",
        "colab_type": "code",
        "outputId": "55e904d3-feb5-4791-8ebb-c4f1ddaeef78",
        "colab": {
          "base_uri": "https://localhost:8080/",
          "height": 432
        }
      },
      "source": [
        "test_stationarity(xdf['INDIA - INDIAN RUPEE/US$'])"
      ],
      "execution_count": 0,
      "outputs": [
        {
          "output_type": "display_data",
          "data": {
            "image/png": "[encoded data removed]",
            "text/plain": [
              "<Figure size 432x288 with 1 Axes>"
            ]
          },
          "metadata": {
            "tags": [],
            "needs_background": "light"
          }
        },
        {
          "output_type": "stream",
          "text": [
            "Results of Dickey-Fuller Test:\n",
            "Test Statistic                   -0.093954\n",
            "p-value                           0.950037\n",
            "#Lags Used                       28.000000\n",
            "Number of Observations Used    5188.000000\n",
            "Critical Value (1%)              -3.431611\n",
            "Critical Value (5%)              -2.862097\n",
            "Critical Value (10%)             -2.567067\n",
            "dtype: float64\n"
          ],
          "name": "stdout"
        }
      ]
    },
    {
      "cell_type": "markdown",
      "metadata": {
        "id": "0hM7eStFctHd",
        "colab_type": "text"
      },
      "source": [
        "Though the variation in standard deviation is small, mean is clearly increasing with time and this is not a stationary series. Also, the test statistic is way more than the critical values. Note that the signed values should be compared and not the absolute values."
      ]
    },
    {
      "cell_type": "code",
      "metadata": {
        "id": "1UMkVMb701Tb",
        "colab_type": "code",
        "outputId": "8005844a-47fe-4bca-ae35-1d6b0df09ffc",
        "colab": {
          "base_uri": "https://localhost:8080/",
          "height": 282
        }
      },
      "source": [
        "ts_log = np.log(df['INDIA - INDIAN RUPEE/US$'])\n",
        "plt.plot(ts_log)\n",
        "# trends remain same"
      ],
      "execution_count": 0,
      "outputs": [
        {
          "output_type": "execute_result",
          "data": {
            "text/plain": [
              "[<matplotlib.lines.Line2D at 0x7fc8d449c898>]"
            ]
          },
          "metadata": {
            "tags": []
          },
          "execution_count": 55
        },
        {
          "output_type": "display_data",
          "data": {
            "image/png": "[encoded data removed]",
            "text/plain": [
              "<Figure size 432x288 with 1 Axes>"
            ]
          },
          "metadata": {
            "tags": [],
            "needs_background": "light"
          }
        }
      ]
    },
    {
      "cell_type": "code",
      "metadata": {
        "id": "edN2LW2R3XEC",
        "colab_type": "code",
        "outputId": "46086894-ed28-46a4-9b0f-c4636cacbb1e",
        "colab": {
          "base_uri": "https://localhost:8080/",
          "height": 282
        }
      },
      "source": [
        "# moving_avg = pd.rolling_mean(ts_log,12)\n",
        "moving_std= ts_log.rolling(180).std()\n",
        "moving_avg = ts_log.rolling(180).mean()\n",
        "plt.plot(ts_log)\n",
        "plt.plot(moving_std, color='green')\n",
        "plt.plot(moving_avg, color='red')"
      ],
      "execution_count": 0,
      "outputs": [
        {
          "output_type": "execute_result",
          "data": {
            "text/plain": [
              "[<matplotlib.lines.Line2D at 0x7fc8d1be1d68>]"
            ]
          },
          "metadata": {
            "tags": []
          },
          "execution_count": 56
        },
        {
          "output_type": "display_data",
          "data": {
            "image/png": "[encoded data removed]",
            "text/plain": [
              "<Figure size 432x288 with 1 Axes>"
            ]
          },
          "metadata": {
            "tags": [],
            "needs_background": "light"
          }
        }
      ]
    },
    {
      "cell_type": "code",
      "metadata": {
        "id": "y5nTJ5013u2S",
        "colab_type": "code",
        "outputId": "ce0ee471-a8dc-4b6b-c1ff-e6846515aaaf",
        "colab": {
          "base_uri": "https://localhost:8080/",
          "height": 235
        }
      },
      "source": [
        "# why?to make a time seriers stationary we are taking out differences\n",
        "# depend on time series that how gonna we make it stationsry like taking square ,log,cubetrrot.\n",
        "ts_log_moving_avg_diff = ts_log - moving_avg\n",
        "ts_log_moving_avg_diff.head(180)"
      ],
      "execution_count": 0,
      "outputs": [
        {
          "output_type": "execute_result",
          "data": {
            "text/plain": [
              "DATE\n",
              "2000-01-03         NaN\n",
              "2000-01-04         NaN\n",
              "2000-01-05         NaN\n",
              "2000-01-06         NaN\n",
              "2000-01-07         NaN\n",
              "                ...   \n",
              "2000-09-04         NaN\n",
              "2000-09-05         NaN\n",
              "2000-09-06         NaN\n",
              "2000-09-07         NaN\n",
              "2000-09-08    0.031501\n",
              "Name: INDIA - INDIAN RUPEE/US$, Length: 180, dtype: float64"
            ]
          },
          "metadata": {
            "tags": []
          },
          "execution_count": 57
        }
      ]
    },
    {
      "cell_type": "code",
      "metadata": {
        "id": "iLxcIlSS40Ko",
        "colab_type": "code",
        "colab": {}
      },
      "source": [
        "\n",
        "# na values ko drop kreee h instead of that f fill b fill kr skte h\n",
        "ts_log_moving_avg_diff.dropna(inplace=True)"
      ],
      "execution_count": 0,
      "outputs": []
    },
    {
      "cell_type": "code",
      "metadata": {
        "id": "Vpyt6uc0uCn1",
        "colab_type": "code",
        "outputId": "272b7dfd-f944-4256-cfc2-4f287d8e7081",
        "colab": {
          "base_uri": "https://localhost:8080/",
          "height": 134
        }
      },
      "source": [
        "ts_log_moving_avg_diff.head()"
      ],
      "execution_count": 0,
      "outputs": [
        {
          "output_type": "execute_result",
          "data": {
            "text/plain": [
              "DATE\n",
              "2000-09-08    0.031501\n",
              "2000-09-11    0.029489\n",
              "2000-09-12    0.030316\n",
              "2000-09-13    0.030048\n",
              "2000-09-14    0.031954\n",
              "Name: INDIA - INDIAN RUPEE/US$, dtype: float64"
            ]
          },
          "metadata": {
            "tags": []
          },
          "execution_count": 59
        }
      ]
    },
    {
      "cell_type": "code",
      "metadata": {
        "id": "zdQJz0XVJF0k",
        "colab_type": "code",
        "outputId": "408c927d-874d-4c81-e87b-4eaebf03dba9",
        "colab": {
          "base_uri": "https://localhost:8080/",
          "height": 432
        }
      },
      "source": [
        "test_stationarity(ts_log_moving_avg_diff)"
      ],
      "execution_count": 0,
      "outputs": [
        {
          "output_type": "display_data",
          "data": {
            "image/png": "[encoded data removed]",
            "text/plain": [
              "<Figure size 432x288 with 1 Axes>"
            ]
          },
          "metadata": {
            "tags": [],
            "needs_background": "light"
          }
        },
        {
          "output_type": "stream",
          "text": [
            "Results of Dickey-Fuller Test:\n",
            "Test Statistic                   -4.746337\n",
            "p-value                           0.000069\n",
            "#Lags Used                       26.000000\n",
            "Number of Observations Used    5011.000000\n",
            "Critical Value (1%)              -3.431656\n",
            "Critical Value (5%)              -2.862117\n",
            "Critical Value (10%)             -2.567077\n",
            "dtype: float64\n"
          ],
          "name": "stdout"
        }
      ]
    },
    {
      "cell_type": "markdown",
      "metadata": {
        "id": "KQHcTxtgfc1u",
        "colab_type": "text"
      },
      "source": [
        "This looks like a much better series. The rolling values appear to be varying slightly but there is no specific trend. Also, the test statistic is smaller than the 5% critical values so we can say with 95% confidence that this is a stationary series."
      ]
    },
    {
      "cell_type": "code",
      "metadata": {
        "id": "J3DllV0V5Z-l",
        "colab_type": "code",
        "colab": {}
      },
      "source": [
        "# ts_log_moving_avg_diff.dropna(inplace=True)\n",
        "expwighted_avg = ts_log.ewm(halflife=180).mean()"
      ],
      "execution_count": 0,
      "outputs": []
    },
    {
      "cell_type": "code",
      "metadata": {
        "id": "4LY_rSYa9gEK",
        "colab_type": "code",
        "outputId": "2f5beeac-8fda-47e8-956a-53640b305203",
        "colab": {
          "base_uri": "https://localhost:8080/",
          "height": 282
        }
      },
      "source": [
        "plt.plot(ts_log)\n",
        "plt.plot(expwighted_avg, color='red')"
      ],
      "execution_count": 0,
      "outputs": [
        {
          "output_type": "execute_result",
          "data": {
            "text/plain": [
              "[<matplotlib.lines.Line2D at 0x7fc8d08fed68>]"
            ]
          },
          "metadata": {
            "tags": []
          },
          "execution_count": 62
        },
        {
          "output_type": "display_data",
          "data": {
            "image/png": "[encoded data removed]",
            "text/plain": [
              "<Figure size 432x288 with 1 Axes>"
            ]
          },
          "metadata": {
            "tags": [],
            "needs_background": "light"
          }
        }
      ]
    },
    {
      "cell_type": "code",
      "metadata": {
        "id": "VVStt6wQ9j6I",
        "colab_type": "code",
        "colab": {}
      },
      "source": [
        "ts_log_ewma_diff = ts_log - expwighted_avg"
      ],
      "execution_count": 0,
      "outputs": []
    },
    {
      "cell_type": "code",
      "metadata": {
        "id": "3Ebnu7BiJOps",
        "colab_type": "code",
        "outputId": "6dabc3ad-0751-48fd-bc5b-c9baf3097cd1",
        "colab": {
          "base_uri": "https://localhost:8080/",
          "height": 432
        }
      },
      "source": [
        "test_stationarity(ts_log_ewma_diff)"
      ],
      "execution_count": 0,
      "outputs": [
        {
          "output_type": "display_data",
          "data": {
            "image/png": "[encoded data removed]",
            "text/plain": [
              "<Figure size 432x288 with 1 Axes>"
            ]
          },
          "metadata": {
            "tags": [],
            "needs_background": "light"
          }
        },
        {
          "output_type": "stream",
          "text": [
            "Results of Dickey-Fuller Test:\n",
            "Test Statistic                   -3.353404\n",
            "p-value                           0.012654\n",
            "#Lags Used                       26.000000\n",
            "Number of Observations Used    5190.000000\n",
            "Critical Value (1%)              -3.431611\n",
            "Critical Value (5%)              -2.862097\n",
            "Critical Value (10%)             -2.567067\n",
            "dtype: float64\n"
          ],
          "name": "stdout"
        }
      ]
    },
    {
      "cell_type": "code",
      "metadata": {
        "id": "pjAzT7JA9o1U",
        "colab_type": "code",
        "outputId": "de53068d-11f4-40aa-8cf7-8ebbce8b8e75",
        "colab": {
          "base_uri": "https://localhost:8080/",
          "height": 282
        }
      },
      "source": [
        "ts_log_diff = ts_log - ts_log.shift()\n",
        "plt.plot(ts_log_diff)"
      ],
      "execution_count": 0,
      "outputs": [
        {
          "output_type": "execute_result",
          "data": {
            "text/plain": [
              "[<matplotlib.lines.Line2D at 0x7fc8cf20e240>]"
            ]
          },
          "metadata": {
            "tags": []
          },
          "execution_count": 208
        },
        {
          "output_type": "display_data",
          "data": {
            "image/png": "[encoded data removed]",
            "text/plain": [
              "<Figure size 432x288 with 1 Axes>"
            ]
          },
          "metadata": {
            "tags": [],
            "needs_background": "light"
          }
        }
      ]
    },
    {
      "cell_type": "code",
      "metadata": {
        "id": "0lhIMYKN9sWm",
        "colab_type": "code",
        "colab": {}
      },
      "source": [
        "ts_log_diff.dropna(inplace=True)"
      ],
      "execution_count": 0,
      "outputs": []
    },
    {
      "cell_type": "code",
      "metadata": {
        "id": "OvmgjChkJUnF",
        "colab_type": "code",
        "outputId": "2e2a24f6-8ccd-483e-b570-f4675dc0da31",
        "colab": {
          "base_uri": "https://localhost:8080/",
          "height": 432
        }
      },
      "source": [
        "test_stationarity(ts_log_diff)"
      ],
      "execution_count": 0,
      "outputs": [
        {
          "output_type": "display_data",
          "data": {
            "image/png": "[encoded data removed]",
            "text/plain": [
              "<Figure size 432x288 with 1 Axes>"
            ]
          },
          "metadata": {
            "tags": [],
            "needs_background": "light"
          }
        },
        {
          "output_type": "stream",
          "text": [
            "Results of Dickey-Fuller Test:\n",
            "Test Statistic                -1.334076e+01\n",
            "p-value                        5.926737e-25\n",
            "#Lags Used                     2.500000e+01\n",
            "Number of Observations Used    5.190000e+03\n",
            "Critical Value (1%)           -3.431611e+00\n",
            "Critical Value (5%)           -2.862097e+00\n",
            "Critical Value (10%)          -2.567067e+00\n",
            "dtype: float64\n"
          ],
          "name": "stdout"
        }
      ]
    },
    {
      "cell_type": "code",
      "metadata": {
        "id": "MTn6_ug09w6b",
        "colab_type": "code",
        "outputId": "e98fbbc3-42ad-406b-fbe4-84b4fffe55ae",
        "colab": {
          "base_uri": "https://localhost:8080/",
          "height": 297
        }
      },
      "source": [
        "from statsmodels.tsa.seasonal import seasonal_decompose\n",
        "decomposition = seasonal_decompose(ts_log)\n",
        "\n",
        "trend = decomposition.trend\n",
        "seasonal = decomposition.seasonal\n",
        "residual = decomposition.resid\n",
        "\n",
        "plt.subplot(411)\n",
        "plt.plot(ts_log, label='Original')\n",
        "plt.legend(loc='best')\n",
        "plt.subplot(412)\n",
        "plt.plot(trend, label='Trend')\n",
        "plt.legend(loc='best')\n",
        "plt.subplot(413)\n",
        "plt.plot(seasonal,label='Seasonality')\n",
        "plt.legend(loc='best')\n",
        "plt.subplot(414)\n",
        "plt.plot(residual, label='Residuals')\n",
        "plt.legend(loc='best')\n",
        "plt.tight_layout()"
      ],
      "execution_count": 0,
      "outputs": [
        {
          "output_type": "display_data",
          "data": {
            "image/png": "[encoded data removed]",
            "text/plain": [
              "<Figure size 432x288 with 4 Axes>"
            ]
          },
          "metadata": {
            "tags": [],
            "needs_background": "light"
          }
        }
      ]
    },
    {
      "cell_type": "code",
      "metadata": {
        "id": "94aOBrsi92AD",
        "colab_type": "code",
        "colab": {}
      },
      "source": [
        "ts_log_decompose = residual\n",
        "ts_log_decompose.dropna(inplace=True)"
      ],
      "execution_count": 0,
      "outputs": []
    },
    {
      "cell_type": "code",
      "metadata": {
        "id": "0L185r-kJeX9",
        "colab_type": "code",
        "outputId": "fa8ee806-a0f9-4f42-8aa0-fead5a8ca109",
        "colab": {
          "base_uri": "https://localhost:8080/",
          "height": 432
        }
      },
      "source": [
        "test_stationarity(ts_log_decompose)"
      ],
      "execution_count": 0,
      "outputs": [
        {
          "output_type": "display_data",
          "data": {
            "image/png": "[encoded data removed]",
            "text/plain": [
              "<Figure size 432x288 with 1 Axes>"
            ]
          },
          "metadata": {
            "tags": [],
            "needs_background": "light"
          }
        },
        {
          "output_type": "stream",
          "text": [
            "Results of Dickey-Fuller Test:\n",
            "Test Statistic                  -22.096823\n",
            "p-value                           0.000000\n",
            "#Lags Used                       30.000000\n",
            "Number of Observations Used    5182.000000\n",
            "Critical Value (1%)              -3.431613\n",
            "Critical Value (5%)              -2.862098\n",
            "Critical Value (10%)             -2.567067\n",
            "dtype: float64\n"
          ],
          "name": "stdout"
        }
      ]
    },
    {
      "cell_type": "code",
      "metadata": {
        "id": "GK-8dI6097UQ",
        "colab_type": "code",
        "colab": {}
      },
      "source": [
        "#ACF(q) and PACF(p) plots:\n",
        "from statsmodels.tsa.stattools import acf, pacf"
      ],
      "execution_count": 0,
      "outputs": []
    },
    {
      "cell_type": "code",
      "metadata": {
        "id": "kzt2_fOg9_UN",
        "colab_type": "code",
        "outputId": "2226fda0-d0a3-4255-9c38-02948111e3c8",
        "colab": {
          "base_uri": "https://localhost:8080/",
          "height": 70
        }
      },
      "source": [
        "lag_acf = acf(ts_log_diff, nlags=365)\n",
        "lag_pacf = pacf(ts_log_diff, nlags=365, method='ols')\n",
        "# oridinary least square method\n",
        "# other then ols"
      ],
      "execution_count": 0,
      "outputs": [
        {
          "output_type": "stream",
          "text": [
            "/usr/local/lib/python3.6/dist-packages/statsmodels/tsa/stattools.py:541: FutureWarning: fft=True will become the default in a future version of statsmodels. To suppress this warning, explicitly set fft=False.\n",
            "  warnings.warn(msg, FutureWarning)\n"
          ],
          "name": "stderr"
        }
      ]
    },
    {
      "cell_type": "code",
      "metadata": {
        "id": "AWyrQMSy-CDo",
        "colab_type": "code",
        "outputId": "7d1a0c5a-8724-4141-bc7c-fe72218dbfc7",
        "colab": {
          "base_uri": "https://localhost:8080/",
          "height": 281
        }
      },
      "source": [
        "#Plot ACF: \n",
        "plt.subplot(121) \n",
        "plt.plot(lag_acf)\n",
        "plt.axhline(y=0,linestyle='--',color='gray')\n",
        "plt.axhline(y=-1.96/np.sqrt(len(ts_log_diff)),linestyle='--',color='gray')\n",
        "plt.axhline(y=1.96/np.sqrt(len(ts_log_diff)),linestyle='--',color='gray')\n",
        "plt.title('Autocorrelation Function')\n",
        "plt.show()"
      ],
      "execution_count": 0,
      "outputs": [
        {
          "output_type": "display_data",
          "data": {
            "image/png": "[encoded data removed]",
            "text/plain": [
              "<Figure size 432x288 with 1 Axes>"
            ]
          },
          "metadata": {
            "tags": [],
            "needs_background": "light"
          }
        }
      ]
    },
    {
      "cell_type": "code",
      "metadata": {
        "id": "DXxG5OpT-Gtt",
        "colab_type": "code",
        "outputId": "46e30302-8569-40c9-ae08-4e01c63ab127",
        "colab": {
          "base_uri": "https://localhost:8080/",
          "height": 297
        }
      },
      "source": [
        "#Plot PACF:\n",
        "plt.subplot(122)\n",
        "plt.plot(lag_pacf)\n",
        "plt.axhline(y=0,linestyle='--',color='gray')\n",
        "plt.axhline(y=-1.96/np.sqrt(len(ts_log_diff)),linestyle='--',color='gray')\n",
        "plt.axhline(y=1.96/np.sqrt(len(ts_log_diff)),linestyle='--',color='gray')\n",
        "plt.title('Partial Autocorrelation Function')\n",
        "plt.tight_layout()"
      ],
      "execution_count": 0,
      "outputs": [
        {
          "output_type": "display_data",
          "data": {
            "image/png": "[encoded data removed]",
            "text/plain": [
              "<Figure size 432x288 with 1 Axes>"
            ]
          },
          "metadata": {
            "tags": [],
            "needs_background": "light"
          }
        }
      ]
    },
    {
      "cell_type": "code",
      "metadata": {
        "id": "_k9MQ51q-KkN",
        "colab_type": "code",
        "colab": {}
      },
      "source": [
        "from statsmodels.tsa.arima_model import ARIMA"
      ],
      "execution_count": 0,
      "outputs": []
    },
    {
      "cell_type": "code",
      "metadata": {
        "id": "xjIQBFkh-PAc",
        "colab_type": "code",
        "outputId": "6594e8d5-f121-4ac0-c606-d0468e6a3e7c",
        "colab": {
          "base_uri": "https://localhost:8080/",
          "height": 385
        }
      },
      "source": [
        "model = ARIMA(ts_log, order=(2, 1, 2))  \n",
        "results_AR = model.fit(disp=-1) \n",
        "plt.plot(ts_log_diff)   \n",
        "plt.plot(results_AR.fittedvalues, color='red')    \n",
        "plt.title('RSS: %.4f'% sum((results_AR.fittedvalues-ts_log_diff)**2))  "
      ],
      "execution_count": 0,
      "outputs": [
        {
          "output_type": "stream",
          "text": [
            "/usr/local/lib/python3.6/dist-packages/statsmodels/tsa/base/tsa_model.py:165: ValueWarning: No frequency information was provided, so inferred frequency B will be used.\n",
            "  % freq, ValueWarning)\n",
            "/usr/local/lib/python3.6/dist-packages/statsmodels/tsa/base/tsa_model.py:165: ValueWarning: No frequency information was provided, so inferred frequency B will be used.\n",
            "  % freq, ValueWarning)\n"
          ],
          "name": "stderr"
        },
        {
          "output_type": "execute_result",
          "data": {
            "text/plain": [
              "Text(0.5, 1.0, 'RSS: 0.0977')"
            ]
          },
          "metadata": {
            "tags": []
          },
          "execution_count": 220
        },
        {
          "output_type": "display_data",
          "data": {
            "image/png": "[encoded data removed]",
            "text/plain": [
              "<Figure size 432x288 with 1 Axes>"
            ]
          },
          "metadata": {
            "tags": [],
            "needs_background": "light"
          }
        }
      ]
    },
    {
      "cell_type": "code",
      "metadata": {
        "id": "1w7oHtQrX59O",
        "colab_type": "code",
        "outputId": "3fab3348-524c-45d9-97bb-4cc74136335c",
        "colab": {
          "base_uri": "https://localhost:8080/",
          "height": 385
        }
      },
      "source": [
        "model = ARIMA(ts_log, order=(25,1,2))  \n",
        "results_ARIMA = model.fit(disp=-1)  \n",
        "plt.plot(ts_log_diff)\n",
        "plt.plot(results_ARIMA.fittedvalues, color='red')\n",
        "plt.title('RSS: %.4f'% sum((results_ARIMA.fittedvalues-ts_log_diff)**2))"
      ],
      "execution_count": 0,
      "outputs": [
        {
          "output_type": "stream",
          "text": [
            "/usr/local/lib/python3.6/dist-packages/statsmodels/tsa/base/tsa_model.py:165: ValueWarning: No frequency information was provided, so inferred frequency B will be used.\n",
            "  % freq, ValueWarning)\n",
            "/usr/local/lib/python3.6/dist-packages/statsmodels/tsa/base/tsa_model.py:165: ValueWarning: No frequency information was provided, so inferred frequency B will be used.\n",
            "  % freq, ValueWarning)\n"
          ],
          "name": "stderr"
        },
        {
          "output_type": "execute_result",
          "data": {
            "text/plain": [
              "Text(0.5, 1.0, 'RSS: 0.0967')"
            ]
          },
          "metadata": {
            "tags": []
          },
          "execution_count": 245
        },
        {
          "output_type": "display_data",
          "data": {
            "image/png": "[encoded data removed]",
            "text/plain": [
              "<Figure size 432x288 with 1 Axes>"
            ]
          },
          "metadata": {
            "tags": [],
            "needs_background": "light"
          }
        }
      ]
    },
    {
      "cell_type": "code",
      "metadata": {
        "id": "ciXtkvue-nye",
        "colab_type": "code",
        "outputId": "239a541c-134c-45fe-b7a6-7506b0fe0bdb",
        "colab": {
          "base_uri": "https://localhost:8080/",
          "height": 134
        }
      },
      "source": [
        "\n",
        "predictions_ARIMA_diff = pd.Series(results_ARIMA.fittedvalues, copy=True)\n",
        "predictions_ARIMA_diff.head()"
      ],
      "execution_count": 0,
      "outputs": [
        {
          "output_type": "execute_result",
          "data": {
            "text/plain": [
              "DATE\n",
              "2000-01-04    0.000094\n",
              "2000-01-05    0.000099\n",
              "2000-01-06    0.000104\n",
              "2000-01-07    0.000102\n",
              "2000-01-10    0.000099\n",
              "dtype: float64"
            ]
          },
          "metadata": {
            "tags": []
          },
          "execution_count": 240
        }
      ]
    },
    {
      "cell_type": "code",
      "metadata": {
        "id": "BNlgY0wF-sD5",
        "colab_type": "code",
        "outputId": "78fa8c49-73eb-4303-bd1e-75b2597ec7f5",
        "colab": {
          "base_uri": "https://localhost:8080/",
          "height": 134
        }
      },
      "source": [
        "predictions_ARIMA_diff_cumsum = predictions_ARIMA_diff.cumsum()\n",
        "predictions_ARIMA_diff_cumsum.head()"
      ],
      "execution_count": 0,
      "outputs": [
        {
          "output_type": "execute_result",
          "data": {
            "text/plain": [
              "DATE\n",
              "2000-01-04    0.000094\n",
              "2000-01-05    0.000192\n",
              "2000-01-06    0.000296\n",
              "2000-01-07    0.000399\n",
              "2000-01-10    0.000497\n",
              "dtype: float64"
            ]
          },
          "metadata": {
            "tags": []
          },
          "execution_count": 241
        }
      ]
    },
    {
      "cell_type": "code",
      "metadata": {
        "id": "TTMTccQ6-zoT",
        "colab_type": "code",
        "outputId": "891de94f-a49a-4d67-dae2-6673cd997a91",
        "colab": {
          "base_uri": "https://localhost:8080/",
          "height": 134
        }
      },
      "source": [
        "predictions_ARIMA_log = pd.Series(ts_log.iloc[0], index=ts_log.index)\n",
        "predictions_ARIMA_log = predictions_ARIMA_log.add(predictions_ARIMA_diff_cumsum,fill_value=0)\n",
        "predictions_ARIMA_log.head()"
      ],
      "execution_count": 0,
      "outputs": [
        {
          "output_type": "execute_result",
          "data": {
            "text/plain": [
              "DATE\n",
              "2000-01-03    3.773910\n",
              "2000-01-04    3.774004\n",
              "2000-01-05    3.774102\n",
              "2000-01-06    3.774206\n",
              "2000-01-07    3.774309\n",
              "dtype: float64"
            ]
          },
          "metadata": {
            "tags": []
          },
          "execution_count": 242
        }
      ]
    },
    {
      "cell_type": "code",
      "metadata": {
        "id": "8tDXmH0Q-6BN",
        "colab_type": "code",
        "outputId": "b4cb6eab-ec9a-4895-ab1e-4dff434c1d92",
        "colab": {
          "base_uri": "https://localhost:8080/",
          "height": 298
        }
      },
      "source": [
        "predictions_ARIMA = np.exp(predictions_ARIMA_log)\n",
        "plt.plot(df['INDIA - INDIAN RUPEE/US$'])\n",
        "plt.plot(predictions_ARIMA)\n",
        "plt.title('RMSE: %.4f'% np.sqrt(sum((predictions_ARIMA-df['INDIA - INDIAN RUPEE/US$'])**2)/len(df['INDIA - INDIAN RUPEE/US$'])))\n",
        "plt.show()"
      ],
      "execution_count": 0,
      "outputs": [
        {
          "output_type": "execute_result",
          "data": {
            "text/plain": [
              "Text(0.5, 1.0, 'RMSE: 5.5468')"
            ]
          },
          "metadata": {
            "tags": []
          },
          "execution_count": 243
        },
        {
          "output_type": "display_data",
          "data": {
            "image/png": "[encoded data removed]",
            "text/plain": [
              "<Figure size 432x288 with 1 Axes>"
            ]
          },
          "metadata": {
            "tags": [],
            "needs_background": "light"
          }
        }
      ]
    },
    {
      "cell_type": "code",
      "metadata": {
        "id": "lsmnLp7XQmdn",
        "colab_type": "code",
        "outputId": "62b0501c-1288-43a1-aef7-f128c86823a5",
        "colab": {
          "base_uri": "https://localhost:8080/",
          "height": 235
        }
      },
      "source": [
        "predictions_ARIMA"
      ],
      "execution_count": 0,
      "outputs": [
        {
          "output_type": "execute_result",
          "data": {
            "text/plain": [
              "DATE\n",
              "2000-01-03    43.550000\n",
              "2000-01-04    43.554123\n",
              "2000-01-05    43.558446\n",
              "2000-01-06    43.562979\n",
              "2000-01-07    43.567534\n",
              "                ...    \n",
              "2019-12-25    71.344743\n",
              "2019-12-26    71.349404\n",
              "2019-12-27    71.354054\n",
              "2019-12-30    71.352630\n",
              "2019-12-31    71.359272\n",
              "Length: 5217, dtype: float64"
            ]
          },
          "metadata": {
            "tags": []
          },
          "execution_count": 226
        }
      ]
    },
    {
      "cell_type": "code",
      "metadata": {
        "id": "PwbHOgHce7DK",
        "colab_type": "code",
        "outputId": "f1da7c38-12c6-4056-c924-77a23dabe5a5",
        "colab": {
          "base_uri": "https://localhost:8080/",
          "height": 265
        }
      },
      "source": [
        "results_ARIMA.plot_predict(1,11000)\n",
        "x=results_ARIMA.forecast(steps=120)\n",
        "# plt.title('RMSE: %.4f'% np.sqrt(sum((predictions_ARIMA-xdf['INDIA'])**2)/len(xdf['INDIA'])))"
      ],
      "execution_count": 0,
      "outputs": [
        {
          "output_type": "display_data",
          "data": {
            "image/png": "[encoded data removed]",
            "text/plain": [
              "<Figure size 432x288 with 1 Axes>"
            ]
          },
          "metadata": {
            "tags": [],
            "needs_background": "light"
          }
        }
      ]
    },
    {
      "cell_type": "code",
      "metadata": {
        "id": "nilTRDZkgMDP",
        "colab_type": "code",
        "outputId": "cf1831a0-3ce9-4654-9990-df59ce48d59f",
        "colab": {
          "base_uri": "https://localhost:8080/",
          "height": 1000
        }
      },
      "source": [
        "x"
      ],
      "execution_count": 0,
      "outputs": [
        {
          "output_type": "execute_result",
          "data": {
            "text/plain": [
              "(array([4.26802496, 4.26803213, 4.26793847, 4.26798076, 4.26822188,\n",
              "        4.2684602 , 4.26850553, 4.26843112, 4.26846586, 4.26868467,\n",
              "        4.26891554, 4.26897754, 4.26892086, 4.26895086, 4.26914966,\n",
              "        4.26937238, 4.26944841, 4.26940844, 4.26943558, 4.26961655,\n",
              "        4.2698307 , 4.26991839, 4.26989404, 4.26991991, 4.27008508,\n",
              "        4.27029044, 4.2703877 , 4.27037785, 4.27040373, 4.27055501,\n",
              "        4.27075154, 4.27085652, 4.27086004, 4.270887  , 4.27102614,\n",
              "        4.27121394, 4.27132503, 4.27134079, 4.27136966, 4.27149826,\n",
              "        4.27167756, 4.27179335, 4.27182025, 4.27185168, 4.27197122,\n",
              "        4.27214231, 4.27226159, 4.27229858, 4.27233305, 4.27244485,\n",
              "        4.27260812, 4.27272986, 4.2727759 , 4.27281377, 4.27291903,\n",
              "        4.2730749 , 4.27319821, 4.27325235, 4.27329385, 4.27339365,\n",
              "        4.27354256, 4.27366671, 4.27372805, 4.2737733 , 4.27386859,\n",
              "        4.27401104, 4.27413541, 4.2742031 , 4.27425215, 4.27434377,\n",
              "        4.27448024, 4.27460434, 4.27467759, 4.27473044, 4.27481912,\n",
              "        4.27495009, 4.27507353, 4.27515162, 4.27520818, 4.27529457,\n",
              "        4.27542054, 4.27554298, 4.27562526, 4.27568542, 4.27577008,\n",
              "        4.2758915 , 4.27601272, 4.27609857, 4.27616218, 4.2762456 ,\n",
              "        4.27636291, 4.27648273, 4.27657163, 4.27663851, 4.27672109,\n",
              "        4.27683473, 4.27695303, 4.27704448, 4.27711445, 4.27719653,\n",
              "        4.2773069 , 4.27742359, 4.27751717, 4.27759002, 4.27767189,\n",
              "        4.27777936, 4.27789442, 4.27798974, 4.27806526, 4.27814715,\n",
              "        4.27825208, 4.2783655 , 4.27846222, 4.2785402 , 4.27862232,\n",
              "        4.27872502, 4.27883682, 4.27893465, 4.27901488, 4.27909736]),\n",
              " array([0.00432401, 0.00594826, 0.00710347, 0.00811493, 0.0090577 ,\n",
              "        0.00992381, 0.01069269, 0.01138342, 0.01204161, 0.0126929 ,\n",
              "        0.01332281, 0.01390645, 0.01444684, 0.01497124, 0.01549777,\n",
              "        0.01601615, 0.01650578, 0.01696555, 0.01741464, 0.01786771,\n",
              "        0.0183178 , 0.01874805, 0.01915567, 0.01955493, 0.01995825,\n",
              "        0.02036102, 0.02074936, 0.02111969, 0.02148292, 0.02184972,\n",
              "        0.02221722, 0.02257391, 0.02291586, 0.02325148, 0.02359006,\n",
              "        0.02392995, 0.02426163, 0.02458101, 0.02489462, 0.02521056,\n",
              "        0.02552812, 0.02583934, 0.0261402 , 0.02643574, 0.02673302,\n",
              "        0.02703203, 0.02732613, 0.02761142, 0.02789176, 0.02817335,\n",
              "        0.02845663, 0.0287361 , 0.02900805, 0.02927539, 0.02954354,\n",
              "        0.02981329, 0.03008008, 0.03034041, 0.03059646, 0.03085294,\n",
              "        0.03111088, 0.03136654, 0.03161664, 0.03186275, 0.03210898,\n",
              "        0.03235652, 0.03260229, 0.03284328, 0.03308056, 0.0333177 ,\n",
              "        0.03355599, 0.03379291, 0.0340257 , 0.03425507, 0.03448408,\n",
              "        0.03471407, 0.034943  , 0.03516838, 0.03539058, 0.03561226,\n",
              "        0.03583476, 0.03605645, 0.03627506, 0.03649075, 0.03670578,\n",
              "        0.03692147, 0.03713655, 0.03734896, 0.03755868, 0.03776763,\n",
              "        0.03797711, 0.03818612, 0.03839282, 0.03859705, 0.03880043,\n",
              "        0.03900421, 0.03920762, 0.03940904, 0.03960818, 0.03980644,\n",
              "        0.04000496, 0.0402032 , 0.0403997 , 0.04059412, 0.04078762,\n",
              "        0.04098129, 0.04117472, 0.04136665, 0.04155667, 0.04174575,\n",
              "        0.04193489, 0.04212385, 0.0423115 , 0.0424974 , 0.04268236,\n",
              "        0.0428673 , 0.04305207, 0.04323571, 0.04341775, 0.04359885]),\n",
              " array([[4.25955006, 4.27649986],\n",
              "        [4.25637375, 4.2796905 ],\n",
              "        [4.25401593, 4.28186101],\n",
              "        [4.25207579, 4.28388573],\n",
              "        [4.25046912, 4.28597464],\n",
              "        [4.24900989, 4.28791051],\n",
              "        [4.24754825, 4.28946282],\n",
              "        [4.24612003, 4.29074221],\n",
              "        [4.24486475, 4.29206698],\n",
              "        [4.24380704, 4.2935623 ],\n",
              "        [4.24280332, 4.29502776],\n",
              "        [4.24172141, 4.29623368],\n",
              "        [4.24060557, 4.29723616],\n",
              "        [4.23960777, 4.29829395],\n",
              "        [4.23877459, 4.29952473],\n",
              "        [4.2379813 , 4.30076346],\n",
              "        [4.23709767, 4.30179915],\n",
              "        [4.23615656, 4.30266031],\n",
              "        [4.23530352, 4.30356765],\n",
              "        [4.23459648, 4.30463661],\n",
              "        [4.23392847, 4.30573292],\n",
              "        [4.23317289, 4.30666389],\n",
              "        [4.23234961, 4.30743846],\n",
              "        [4.23159294, 4.30824687],\n",
              "        [4.23096763, 4.30920252],\n",
              "        [4.23038358, 4.3101973 ],\n",
              "        [4.2297197 , 4.3110557 ],\n",
              "        [4.228984  , 4.31177169],\n",
              "        [4.22829798, 4.31250948],\n",
              "        [4.22773034, 4.31337968],\n",
              "        [4.2272066 , 4.31429649],\n",
              "        [4.22661247, 4.31510058],\n",
              "        [4.22594578, 4.3157743 ],\n",
              "        [4.22531494, 4.31645906],\n",
              "        [4.22479048, 4.31726179],\n",
              "        [4.22431209, 4.31811579],\n",
              "        [4.22377311, 4.31887695],\n",
              "        [4.2231629 , 4.31951868],\n",
              "        [4.22257711, 4.32016221],\n",
              "        [4.22208648, 4.32091005],\n",
              "        [4.22164337, 4.32171175],\n",
              "        [4.22114917, 4.32243753],\n",
              "        [4.22058639, 4.32305411],\n",
              "        [4.22003859, 4.32366477],\n",
              "        [4.21957545, 4.32436698],\n",
              "        [4.21916051, 4.32512411],\n",
              "        [4.21870337, 4.32581982],\n",
              "        [4.21818119, 4.32641596],\n",
              "        [4.2176662 , 4.32699989],\n",
              "        [4.21722611, 4.3276636 ],\n",
              "        [4.21683415, 4.32838208],\n",
              "        [4.21640813, 4.32905158],\n",
              "        [4.21592117, 4.32963063],\n",
              "        [4.21543506, 4.33019248],\n",
              "        [4.21501477, 4.3308233 ],\n",
              "        [4.21464193, 4.33150786],\n",
              "        [4.21424234, 4.33215408],\n",
              "        [4.21378624, 4.33271847],\n",
              "        [4.21332589, 4.3332618 ],\n",
              "        [4.212923  , 4.33386429],\n",
              "        [4.21256635, 4.33451877],\n",
              "        [4.21218943, 4.335144  ],\n",
              "        [4.21176058, 4.33569552],\n",
              "        [4.21132345, 4.33622315],\n",
              "        [4.21093614, 4.33680103],\n",
              "        [4.21059341, 4.33742866],\n",
              "        [4.21023609, 4.33803474],\n",
              "        [4.20983145, 4.33857474],\n",
              "        [4.20941544, 4.33908887],\n",
              "        [4.20904227, 4.33964527],\n",
              "        [4.2087117 , 4.34024877],\n",
              "        [4.20837146, 4.34083723],\n",
              "        [4.20798844, 4.34136675],\n",
              "        [4.20759174, 4.34186914],\n",
              "        [4.20723157, 4.34240666],\n",
              "        [4.20691178, 4.34298841],\n",
              "        [4.2065865 , 4.34356056],\n",
              "        [4.20622286, 4.34408037],\n",
              "        [4.20584391, 4.34457244],\n",
              "        [4.20549583, 4.34509332],\n",
              "        [4.2051857 , 4.34565537],\n",
              "        [4.20487364, 4.34621233],\n",
              "        [4.20452744, 4.34672307],\n",
              "        [4.20416486, 4.34720597],\n",
              "        [4.20382808, 4.34771208],\n",
              "        [4.20352675, 4.34825625],\n",
              "        [4.20322643, 4.34879901],\n",
              "        [4.20289596, 4.34930119],\n",
              "        [4.20254853, 4.34977583],\n",
              "        [4.2022224 , 4.3502688 ],\n",
              "        [4.20192914, 4.35079669],\n",
              "        [4.20163931, 4.35132615],\n",
              "        [4.20132308, 4.35182018],\n",
              "        [4.20098969, 4.35228733],\n",
              "        [4.20067364, 4.35276854],\n",
              "        [4.20038788, 4.35328158],\n",
              "        [4.2001075 , 4.35379856],\n",
              "        [4.19980418, 4.35428478],\n",
              "        [4.19948384, 4.35474506],\n",
              "        [4.19917735, 4.35521571],\n",
              "        [4.19889862, 4.35571518],\n",
              "        [4.19862678, 4.35622041],\n",
              "        [4.19833521, 4.35669913],\n",
              "        [4.19802699, 4.35715304],\n",
              "        [4.19772961, 4.35761416],\n",
              "        [4.19745752, 4.35810121],\n",
              "        [4.19719346, 4.35859538],\n",
              "        [4.1969126 , 4.35906687],\n",
              "        [4.19661569, 4.35951483],\n",
              "        [4.19632699, 4.35996732],\n",
              "        [4.1960612 , 4.36044297],\n",
              "        [4.19580428, 4.36092673],\n",
              "        [4.19553321, 4.36139123],\n",
              "        [4.19524682, 4.36183358],\n",
              "        [4.19496643, 4.3622782 ],\n",
              "        [4.19470666, 4.36274339],\n",
              "        [4.19445631, 4.36321733],\n",
              "        [4.19419422, 4.36367507],\n",
              "        [4.19391766, 4.3641121 ],\n",
              "        [4.19364519, 4.36454954]]))"
            ]
          },
          "metadata": {
            "tags": []
          },
          "execution_count": 113
        }
      ]
    }
  ]
}